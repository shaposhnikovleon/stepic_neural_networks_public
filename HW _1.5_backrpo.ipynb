{
 "cells": [
  {
   "cell_type": "markdown",
   "metadata": {},
   "source": [
    "## Введение\n",
    "\n",
    "Гуляя по парку, Зюк увидел ребят, играющих в футбол. Это странное, на первый взгляд, занятие, вызвало у него неподдельное любопытство. Мы предложили ему присоединиться, но Зюк смущённо отказался. Оказалось, что задача расчёта траектории полёта того или иного предмета считается у нейрян достаточно сложной и у Зюка до сих пор не было времени, чтобы реализовать нейросеть, которая могла бы эту задачу решить.\n",
    "\n",
    "## Нейросеть\n",
    "\n",
    "Мы с радостью вызвались помочь Зюку написать нейросеть для такого случая.\n",
    "\n",
    "Вот что у нас получилось. Кое-где мы запутались и не смогли написать нужный кусок кода. Помогите нам, пожалуйста!\n",
    "\n",
    "// внимательно изучите комментарии к каждой функции, <br>\n",
    "// осознайте код настолько, насколько сможете. Заполните пропущенные кусочки. <br>\n",
    "// за основу класса Network взят пример с сайта neuralnetworksanddeeplearning.com"
   ]
  },
  {
   "cell_type": "code",
   "execution_count": 2,
   "metadata": {
    "collapsed": true
   },
   "outputs": [],
   "source": [
    "import numpy as np\n",
    "import random\n",
    "\n",
    "def sigmoid(z):\n",
    "    \"\"\"The sigmoid function.\n",
    "    Сигмоида\n",
    "    \"\"\"\n",
    "    return 1.0/(1.0+np.exp(-z))\n",
    "\n",
    "def sigmoid_prime(z):\n",
    "    \"\"\"Derivative of the sigmoid function.\n",
    "    Производная сигмоиды по e (шутка). По x\n",
    "    \"\"\"\n",
    "    return sigmoid(z)*(1-sigmoid(z))\n",
    "\n",
    "def cost_function(network, test_data, onehot=True):\n",
    "    c = 0\n",
    "    for example, y in test_data:\n",
    "        if not onehot:\n",
    "            y = np.eye(3, 1, k=-int(y))\n",
    "        yhat = network.feedforward(example)\n",
    "        c += np.sum((y - yhat)**2)\n",
    "    return c / len(test_data)"
   ]
  },
  {
   "cell_type": "code",
   "execution_count": 55,
   "metadata": {
    "collapsed": true
   },
   "outputs": [],
   "source": [
    "class Network:\n",
    "\n",
    "    def __init__(self, sizes, biases, weights, output=True):\n",
    "        \"\"\"\n",
    "        Список ``sizes`` содержит количество нейронов в соответствующих слоях\n",
    "        нейронной сети. К примеру, если бы этот лист выглядел как [2, 3, 1],\n",
    "        то мы бы получили трёхслойную нейросеть, с двумя нейронами в первом\n",
    "        (входном), тремя нейронами во втором (промежуточном) и одним нейроном\n",
    "        в третьем (выходном, внешнем) слое. Смещения и веса для нейронных сетей\n",
    "        инициализируются случайными значениями, подчиняющимися стандартному нормальному\n",
    "        распределению. Обратите внимание, что первый слой подразумевается слоем, \n",
    "        принимающим входные данные, поэтому мы не будем добавлять к нему смещение \n",
    "        (делать это не принято, поскольку смещения используются только при \n",
    "        вычислении выходных значений нейронов последующих слоёв)\n",
    "        \"\"\"\n",
    "\n",
    "        self.num_layers = len(sizes)\n",
    "        self.sizes = sizes\n",
    "        self.biases = biases\n",
    "        self.weights = weights\n",
    "        self.output = output\n",
    "\n",
    "    def feedforward(self, a):\n",
    "        \"\"\"\n",
    "        Вычислить и вернуть выходную активацию нейронной сети\n",
    "        при получении ``a`` на входе (бывшее forward_pass).\n",
    "        \"\"\"\n",
    "        for b, w in zip(self.biases, self.weights):\n",
    "            a = sigmoid(np.dot(w, a)+b)\n",
    "        return a\n",
    "\n",
    "    def backprop(self, x, y):\n",
    "        \"\"\"\n",
    "        Возвращает кортеж ``(nabla_b, nabla_w)`` -- градиент целевой функции по всем параметрам сети.\n",
    "        ``nabla_b`` и ``nabla_w`` -- послойные списки массивов ndarray,\n",
    "        такие же, как self.biases и self.weights соответственно.\n",
    "        \"\"\"\n",
    "        # Эту функцию необходимо реализовать\n",
    "        nabla_b = [np.zeros(b.shape) for b in self.biases]\n",
    "        nabla_w = [np.zeros(w.shape) for w in self.weights]\n",
    "\n",
    "        # прямое распространение (forward pass)\n",
    "        a =[0] * (self.num_layers + 1) # list for all activations\n",
    "        z =[0] * (self.num_layers) # list for all z values\n",
    "        \n",
    "        \n",
    "        for i, (b, w) in enumerate(zip(self.biases, self.weights)):\n",
    "            if i == 0:\n",
    "                print('input layer')\n",
    "                print(f\"x = {x}\")\n",
    "                activation = x\n",
    "                a[0] = activation\n",
    "                #print(f\"activation = {activation}\")\n",
    "            #print(f'forward propagation number {i}')\n",
    "            z[i] = np.dot(w, a[i]) + b\n",
    "            a[i + 1] = sigmoid(z[i])\n",
    "            #print(f\"z^{i} = {z[i]}(output),   a\\^{i} = {a[i+1]}(activation)\")\n",
    "            #activation = a[i + 1]\n",
    "\n",
    "            \n",
    "\n",
    "        # обратное распространение (backward pass)\n",
    "        delta = sigmoid_prime(z[-1]) * self.cost_derivative(a[-1], y) # ошибка выходного слоя\n",
    "        print(f\"\\delta^{self.num_layers} = {delta}\")\n",
    "        nabla_b[-1] = delta # производная J по смещениям выходного слоя\n",
    "        print(f\"dJ/db^{self.num_layers} = {delta}\")\n",
    "        print(f\"a = {a}\")\n",
    "        nabla_w[-1] = np.dot(delta, a[-2].transpose()) # производная J по весам выходного слоя\n",
    "        print(f\"dJ/dw^{self.num_layers} = {nabla_w[-1]}\")\n",
    "        # Обратите внимание, что переменная l в цикле ниже используется\n",
    "        # немного иначе, чем в лекциях.  Здесь l = 1 означает последний слой, \n",
    "        # l = 2 - предпоследний и так далее.  \n",
    "        # Мы перенумеровали схему, чтобы с удобством для себя \n",
    "        # использовать тот факт, что в Python к переменной типа list \n",
    "        # можно обращаться по негативному индексу.\n",
    "        for l in range(2, self.num_layers):\n",
    "            # дополнительные вычисления, чтобы легче записывалось\n",
    "            #\n",
    "            delta = np.dot(self.weights[-l+1].transpose(), delta) * sigmoid_prime(z[-l]) # ошибка на слое L-l\n",
    "            print(f\"\\delta^{self.num_layers - l + 1} = {delta}\")\n",
    "            nabla_b[-l] = delta  # производная J по смещениям L-l-го слоя\n",
    "            print(f\"dJ/db^{self.num_layers - l + 1} = {delta}\")\n",
    "            nabla_w[-l] = np.dot(delta, a[-l-1].transpose())   # производная J по весам L-l-го слоя\n",
    "            print(f\"dJ/dw^{self.num_layers - l + 1} = {nabla_w[-l]}\")    \n",
    "        return nabla_b, nabla_w\n",
    "\n",
    "    def evaluate(self, test_data):\n",
    "        \"\"\"\n",
    "        Вернуть количество тестовых примеров, для которых нейронная сеть\n",
    "        возвращает правильный ответ. Обратите внимание: подразумевается,\n",
    "        что выход нейронной сети - это индекс, указывающий, какой из нейронов\n",
    "        последнего слоя имеет наибольшую активацию.\n",
    "        \"\"\"\n",
    "        test_results = [(np.argmax(self.feedforward(x)), y)\n",
    "                        for (x, y) in test_data]\n",
    "        return sum(int(x == y) for (x, y) in test_results)\n",
    "\n",
    "    def cost_derivative(self, output_activations, y):\n",
    "        \"\"\"\n",
    "        Возвращает вектор частных производных (\\partial C_x) / (\\partial a) \n",
    "        целевой функции по активациям выходного слоя.\n",
    "        \"\"\"\n",
    "        return (output_activations-y)"
   ]
  },
  {
   "cell_type": "code",
   "execution_count": 56,
   "metadata": {},
   "outputs": [
    {
     "name": "stdout",
     "output_type": "stream",
     "text": [
      "input layer\n",
      "x = [[0]\n",
      " [1]\n",
      " [2]]\n",
      "\\delta^3 = 0.0\n",
      "dJ/db^3 = 0.0\n",
      "a = [array([[0],\n",
      "       [1],\n",
      "       [2]]), array([[0.99752738],\n",
      "       [0.99752738]]), array([[0.88027688]]), 0]\n",
      "dJ/dw^3 = [[0.]]\n",
      "\\delta^2 = [[0.]\n",
      " [0.]]\n",
      "dJ/db^2 = [[0.]\n",
      " [0.]]\n",
      "dJ/dw^2 = [[0. 0.]\n",
      " [0. 0.]]\n"
     ]
    },
    {
     "data": {
      "text/plain": [
       "([array([[0.],\n",
       "         [0.]]),\n",
       "  0.0],\n",
       " [array([[0., 0.],\n",
       "         [0., 0.]]),\n",
       "  array([[0.]])])"
      ]
     },
     "execution_count": 56,
     "metadata": {},
     "output_type": "execute_result"
    }
   ],
   "source": [
    "sizes = [3, 2, 1]\n",
    "biases = list(map(np.array,[[[0], [0]], [[0]]]))\n",
    "weights = list(map(np.array,[[[2, 2, 2], [2, 2, 2]], [[1, 1]]])) \n",
    "network = Network(sizes=sizes, weights=weights, biases=biases)\n",
    "#print(network.biases,'\\n', network.weights)\n",
    "network.backprop(x=np.array([[0],[1],[2]]), y=np.array(0))"
   ]
  },
  {
   "cell_type": "code",
   "execution_count": 57,
   "metadata": {},
   "outputs": [
    {
     "name": "stdout",
     "output_type": "stream",
     "text": [
      "input layer\n",
      "x = [[0]\n",
      " [1]\n",
      " [2]]\n",
      "\\delta^3 = -0.25\n",
      "dJ/db^3 = -0.25\n",
      "a = [array([[0],\n",
      "       [1],\n",
      "       [2]]), array([[1.],\n",
      "       [1.]]), array([[0.99999999]]), 0]\n",
      "dJ/dw^3 = [[-0.25]]\n",
      "\\delta^2 = [[-1.40069910e-08]\n",
      " [-1.26062919e-08]]\n",
      "dJ/db^2 = [[-1.40069910e-08]\n",
      " [-1.26062919e-08]]\n",
      "dJ/dw^2 = [[-1.40069910e-08 -1.40069910e-08]\n",
      " [-1.26062919e-08 -1.26062919e-08]]\n"
     ]
    },
    {
     "data": {
      "text/plain": [
       "([array([[-1.40069910e-08],\n",
       "         [-1.26062919e-08]]),\n",
       "  -0.25],\n",
       " [array([[-1.40069910e-08, -1.40069910e-08],\n",
       "         [-1.26062919e-08, -1.26062919e-08]]),\n",
       "  array([[-0.25]])])"
      ]
     },
     "execution_count": 57,
     "metadata": {},
     "output_type": "execute_result"
    }
   ],
   "source": [
    "# second network \n",
    "sizes = [3, 2, 1]\n",
    "biases = list(map(np.array,[[[0], [0]], [[0]]]))\n",
    "weights = list(map(np.array,[[[8, 7, 8], [10, 10, 9]], [[10, 9]]])) \n",
    "network = Network(sizes=sizes, weights=weights, biases=biases)\n",
    "#print(network.biases,'\\n', network.weights)\n",
    "network.backprop(x=np.array([[0],[1],[2]]), y=np.array(1))"
   ]
  },
  {
   "cell_type": "code",
   "execution_count": 58,
   "metadata": {},
   "outputs": [
    {
     "name": "stdout",
     "output_type": "stream",
     "text": [
      "input layer\n",
      "x = [[15]\n",
      " [ 5]\n",
      " [15]]\n",
      "\\delta^3 = -0.25\n",
      "dJ/db^3 = -0.25\n",
      "a = [array([[15],\n",
      "       [ 5],\n",
      "       [15]]), array([[0.99999993],\n",
      "       [0.99999969]]), array([[0.66818774]]), 0]\n",
      "dJ/dw^3 = [[-0.16704693]]\n",
      "\\delta^2 = [[-0.01108564]\n",
      " [-0.02771411]]\n",
      "dJ/db^2 = [[-0.01108564]\n",
      " [-0.02771411]]\n",
      "dJ/dw^2 = [[-0.01108564 -0.01108564]\n",
      " [-0.02771411 -0.0277141 ]]\n"
     ]
    },
    {
     "data": {
      "text/plain": [
       "([array([[-0.01108564],\n",
       "         [-0.02771411]]),\n",
       "  -0.25],\n",
       " [array([[-0.01108564, -0.01108564],\n",
       "         [-0.02771411, -0.0277141 ]]),\n",
       "  array([[-0.16704693]])])"
      ]
     },
     "execution_count": 58,
     "metadata": {},
     "output_type": "execute_result"
    }
   ],
   "source": [
    "# third network \n",
    "sizes = [3, 2, 1]\n",
    "biases = list(map(np.array,[[[0], [0]], [[0]]]))\n",
    "weights = list(map(np.array,[[[0.2, 0.9, 0.6], [0.2, 0.3, 0.7]], [[0.2, 0.5]]])) \n",
    "network = Network(sizes=sizes, weights=weights, biases=biases)\n",
    "#print(network.biases,'\\n', network.weights)\n",
    "network.backprop(x=np.array([[15],[5],[15]]), y=np.array(1))"
   ]
  },
  {
   "cell_type": "code",
   "execution_count": null,
   "metadata": {},
   "outputs": [],
   "source": []
  },
  {
   "cell_type": "code",
   "execution_count": null,
   "metadata": {},
   "outputs": [],
   "source": []
  }
 ],
 "metadata": {
  "kernelspec": {
   "display_name": "Python 3",
   "language": "python",
   "name": "python3"
  },
  "language_info": {
   "codemirror_mode": {
    "name": "ipython",
    "version": 3
   },
   "file_extension": ".py",
   "mimetype": "text/x-python",
   "name": "python",
   "nbconvert_exporter": "python",
   "pygments_lexer": "ipython3",
   "version": "3.9.12"
  }
 },
 "nbformat": 4,
 "nbformat_minor": 0
}
