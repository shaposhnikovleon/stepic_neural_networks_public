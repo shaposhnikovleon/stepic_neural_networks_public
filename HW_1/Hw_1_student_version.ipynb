{
 "cells": [
  {
   "cell_type": "markdown",
   "metadata": {},
   "source": [
    "# Практика 1\n",
    "\n",
    "## Введение\n",
    "\n",
    "На этой неделе было много новой информации. Чтобы всё это запомнилось, необходимо попрактиковаться.\n",
    "\n",
    "В этом нам поможет главный персонаж нашего курса, существо по имени Зюк (Zookee) с далёкой планеты Нейра.\n",
    "Нейряне не так уж сильно отличаются от землян, но для того, чтобы чему-то научиться, им каждый раз приходится формировать набор данных и сознательно программировать небольшую нейросеть в своём мозгу. В этом есть свои плюсы и минусы, но обсуждение этих вопросов выходит далеко за рамки нашего курса.\n",
    "\n",
    "Важно что Зюк очень любит путешествовать и недавно он прилетел к нам.\n",
    "\n",
    "<img src=\"https://raw.githubusercontent.com/stacymiller/stepic_neural_networks_public/master/files/ship_bq.jpg\" width=500/>\n",
    "\n",
    "Мы, конечно, обрадовались его визиту, ведь сразу было видно, что он очень добрый, общительный и, конечно, необычный. Мы договорились, что будем помогать ему собирать данные, а он поделится своим опытом программирования нейросетей. Мы немало удивились, узнав, что многие из его нейросетей написаны на Python. По его выражению, Python - это лучшее из того, что придумали земляне."
   ]
  },
  {
   "cell_type": "markdown",
   "metadata": {},
   "source": [
    "## Перцептрон\n",
    "\n",
    "После небольшой прогулки Зюк сильно проголодался. Кроме того, оказалось, что он очень привередлив в еде:\n",
    "едва попробовав очередное блюдо, он менялся в цвете и вежливо отказывался. К счастью, ему пришлись по нраву яблоки, и вопрос с едой был решен.\n",
    "\n",
    "Однако в наше отсутствие Зюк оставался совершенно беспомощным, поскольку, гуляя в саду, он не мог отличить яблоки от груш (которые были ему совершенно ненавистны), не попробовав их на вкус.\n",
    "\n",
    "<img src=\"https://raw.githubusercontent.com/stacymiller/stepic_neural_networks_public/master/files/apples.jpg\" width=300 />\n",
    "\n",
    "Сформировав путём горьких ошибок небольшой набор данных, Зюк достал какое-то странное устройство и начал программировать перцептрон. Мы вызвались помочь, и он, улыбнувшись, согласился.\n",
    "\n",
    "По его словам, задача должна была оказаться достаточно простой, учитывая что у него в запасе были сети, способные извлекать такие высокоуровневые характеристики, как симметричность и желтизна объекта.\n",
    "\n",
    "### Загрузка данных\n",
    "\n",
    "Первым делом мы решили подготовить всё, что нам может понадобится, и разобраться с набором данных:"
   ]
  },
  {
   "cell_type": "code",
   "execution_count": 1,
   "metadata": {},
   "outputs": [],
   "source": [
    "import matplotlib.pyplot as plt\n",
    "import mpl_toolkits.mplot3d as p3\n",
    "import numpy as np\n",
    "import random\n",
    "import time\n",
    "\n",
    "from functools import partial\n",
    "from ipywidgets import interact, RadioButtons, IntSlider, FloatSlider, Dropdown, BoundedFloatText\n",
    "from numpy.linalg import norm\n",
    "\n",
    "random.seed(42) # начальное состояние генератора случайных чисел, чтобы можно было воспроизводить результаты."
   ]
  },
  {
   "cell_type": "code",
   "execution_count": 2,
   "metadata": {},
   "outputs": [
    {
     "data": {
      "image/png": "[encoded data removed]",
      "text/plain": [
       "<Figure size 432x288 with 1 Axes>"
      ]
     },
     "metadata": {
      "needs_background": "light"
     },
     "output_type": "display_data"
    }
   ],
   "source": [
    "%matplotlib inline\n",
    "data = np.loadtxt(\"data.csv\", delimiter=\",\")\n",
    "pears = data[:, 2] == 1\n",
    "apples = np.logical_not(pears)\n",
    "plt.scatter(data[apples][:, 0], data[apples][:, 1], color = \"red\")\n",
    "plt.scatter(data[pears][:, 0], data[pears][:, 1], color = \"green\")\n",
    "plt.xlabel(\"yellowness\")\n",
    "plt.ylabel(\"symmetry\")\n",
    "plt.show()"
   ]
  },
  {
   "cell_type": "markdown",
   "metadata": {},
   "source": [
    "Данные -  матрица $1000 \\times 3$, в каждой строке указаны желтизна и симметричность очередного фрукта (в первой и второй колонках) и его сортовая принадлежность (третья колонка, 0 - яблоки, 1 - груши)."
   ]
  },
  {
   "cell_type": "markdown",
   "metadata": {},
   "source": [
    "Задача действительно выглядела не очень сложно.\n",
    "\n",
    "Когда данные были загружены, мы захотели впечатлить Зюка своими познаниями и сразу ринулись писать алгоритм обучения перцептрона, однако Зюк остановил нас, напомнив, что сперва нужно решить, какой вообще будет структура модуля, распознающего яблоки и груши. Мы призадумались, и он с ностальгической улыбкой показал нам одну из своих заготовок:"
   ]
  },
  {
   "cell_type": "markdown",
   "metadata": {},
   "source": [
    "# Перцептрон"
   ]
  },
  {
   "cell_type": "code",
   "execution_count": 28,
   "metadata": {},
   "outputs": [],
   "source": [
    "class Perceptron:\n",
    "\n",
    "    def __init__(self, w, b):\n",
    "        \"\"\"\n",
    "        Инициализируем наш объект - перцептрон.\n",
    "        w - вектор весов размера (m, 1), где m - количество переменных\n",
    "        b - число\n",
    "        \"\"\"\n",
    "        \n",
    "        self.w = w\n",
    "        self.b = b\n",
    "\n",
    "    def forward_pass(self, single_input):\n",
    "        \"\"\"\n",
    "        Метод рассчитывает ответ перцептрона при предъявлении одного примера\n",
    "        single_input - вектор примера размера (m, 1).\n",
    "        Метод возвращает число (0 или 1) или boolean (True/False)\n",
    "        \"\"\"\n",
    "        \n",
    "        result = 0\n",
    "        for i in range(0, len(self.w)):\n",
    "            result += self.w[i] * single_input[i]\n",
    "        result += self.b\n",
    "        \n",
    "        if result > 0:\n",
    "            return 1\n",
    "        else:\n",
    "            return 0\n",
    "\n",
    "    def vectorized_forward_pass(self, input_matrix):\n",
    "        \"\"\"\n",
    "        Метод рассчитывает ответ перцептрона при предъявлении набора примеров\n",
    "        input_matrix - матрица примеров размера (n, m), каждая строка - отдельный пример,\n",
    "        n - количество примеров, m - количество переменных\n",
    "        Возвращает вертикальный вектор размера (n, 1) с ответами перцептрона\n",
    "        (элементы вектора - boolean или целые числа (0 или 1))\n",
    "        \"\"\"\n",
    "        n, m = input_matrix.shape\n",
    "        vector_result = (np.sign(input_matrix.dot(self.w) + self.b) + 1) / 2\n",
    "        return vector_result\n",
    "\n",
    "    \n",
    "    def train_on_single_example(self, example, y):\n",
    "        \"\"\"\n",
    "        принимает вектор активации входов example формы (m, 1) \n",
    "        и правильный ответ для него (число 0 или 1 или boolean),\n",
    "        обновляет значения весов перцептрона в соответствии с этим примером\n",
    "        и возвращает размер ошибки, которая случилась на этом примере до изменения весов (0 или 1)\n",
    "        (на её основании мы потом построим интересный график)\n",
    "        \"\"\"\n",
    "\n",
    "        ## Этот метод необходимо реализовать\n",
    "        pass"
   ]
  },
  {
   "cell_type": "markdown",
   "metadata": {},
   "source": [
    "Оказалось, что это был первый нейрон, который он запрограммировал сам. Он рассказал, что метод `train_on_single_example` остался без реализации, так как в то время веса ему еще готовила мама. Векторизовать он, как и все дети, не любил, поэтому данный метод тоже не готов.\n",
    "\n",
    "Мы с лёгким нетерпением спросили, можно ли нам что-нибудь запрограммировать. Убедившись, что мы разобрались в приведённом коде, Зюк поставил задачу:\n",
    "\n",
    "### Реализовать метод `vectorized_forward_pass`\n",
    "\n",
    "Это метод, который считает значения активационной функции нейрона. \n",
    "\n",
    "На вход он принимает матрицу активаций размера $n \\times m$ и вектор ответов длины $n$. Каждая строка - отдельный пример. В случае с яблоками и грушами матрица будет размера $n \\times 2$, где $n$ - количество примеров, для которых мы хотим получить решения (но, конечно, когда мы будем проверять ваши решения, у данных может быть и другой размер!).  `vectorized_forward_pass` отдаёт столбец (формы $n\\times 1$) значений активационной функции нейрона для всех переданных ему входных данных. Зюк предупредил, что если мы будем использовать **циклы** (`for`, `while`) или **операторы ветвления** (`if`) - **решение не пройдёт его внутреннюю проверку**.\n",
    "\n",
    "Было что-то занудное в его голосе, но что делать? Видимо, это та цена, которую нужно платить, если хочешь, чтобы тебя поняли.\n",
    "\n",
    "/// Чтобы всё работало - впишите свою реализацию в предоставленный выше шаблон и сдайте функцию на сайте курса, чтобы <br>\n",
    "/// проверить, что решение правильное. Имейте в виду: наши тесты не охватывают всех возможных характеристик, <br>\n",
    "/// поэтому постарайтесь делать качественно, иначе незамеченные ошибки могут накапливаться. <br>\n",
    "/// Не забудьте запустить код в ячейке, иначе Python будет помнить старую версию того, что было написано"
   ]
  },
  {
   "cell_type": "markdown",
   "metadata": {},
   "source": [
    "### Тестирование\n",
    "\n",
    "Мы с непривычки здорово намучились, и у нас назрел вопрос: а так ли нужна эта векторизация для классификации яблок?\n",
    "\n",
    "\\- Смотря насколько вы цените своё время, - задумчиво ответил Зюк, - признаюсь, я и сам уже привык\n",
    "воспринимать векторизацию как что-то само собой разумеющееся, впитанное с молоком матери, как у вас говорят. \n",
    "\n",
    "Вдруг что-то озорное появилось в его глазах, и он весело предложил: \"Так давайте проверим!\".\n",
    "\n",
    "Выхватив пульт управления, Зюк начал что-то быстро печатать. Не прошло и минуты, как он гордо представил нам свои результаты:\n"
   ]
  },
  {
   "cell_type": "code",
   "execution_count": 21,
   "metadata": {},
   "outputs": [],
   "source": [
    "def create_perceptron(m):\n",
    "    \"\"\"Создаём перцептрон со случайными весами и m входами\"\"\"\n",
    "    # b = 1\n",
    "    w = np.random.random((m, 1))\n",
    "    return Perceptron(w, 1)"
   ]
  },
  {
   "cell_type": "code",
   "execution_count": 26,
   "metadata": {},
   "outputs": [],
   "source": [
    "def test_v_f_p(n, m):\n",
    "    \"\"\"\n",
    "    Расчитывает для перцептрона с m входами\n",
    "    с помощью методов forward_pass и vectorized_forward_pass\n",
    "    n ответов перцептрона на случайных данных.\n",
    "    Возвращает время, затраченное vectorized_forward_pass и forward_pass\n",
    "    на эти расчёты.\n",
    "    \"\"\"\n",
    "    \n",
    "    p = create_perceptron(m)\n",
    "    input_m = np.random.random_sample((n, m))\n",
    "    \n",
    "    start = time.time()\n",
    "    vec = p.vectorized_forward_pass(input_m)\n",
    "    end = time.time()\n",
    "    vector_time = end - start\n",
    "    \n",
    "    start = time.time()\n",
    "    for i in range(0, n):\n",
    "        p.forward_pass(input_m[i]) \n",
    "    end = time.time()\n",
    "    plain_time = end - start\n",
    "\n",
    "    return [vector_time, plain_time]"
   ]
  },
  {
   "cell_type": "code",
   "execution_count": 29,
   "metadata": {},
   "outputs": [
    {
     "data": {
      "application/vnd.jupyter.widget-view+json": {
       "model_id": "9d14a8f4ec2a4433976ab56c38b56f0b",
       "version_major": 2,
       "version_minor": 0
      },
      "text/plain": [
       "interactive(children=(RadioButtons(description='n', options=('1', '10', '100'), value='1'), RadioButtons(descr…"
      ]
     },
     "metadata": {},
     "output_type": "display_data"
    }
   ],
   "source": [
    "def mean_execution_time(n, m, trials=100):\n",
    "    \"\"\"среднее время выполнения forward_pass и vectorized_forward_pass за trials испытаний\"\"\"\n",
    "    \n",
    "    return np.array([test_v_f_p(m, n) for _ in range(trials)]).mean(axis=0)\n",
    "\n",
    "def plot_mean_execution_time(n, m):\n",
    "    \"\"\"рисует графики среднего времени выполнения forward_pass и vectorized_forward_pass\"\"\"\n",
    "    \n",
    "    mean_vectorized, mean_plain = mean_execution_time(int(n), int(m))\n",
    "    p1 = plt.bar([0], mean_vectorized,  color='g')\n",
    "    p2 = plt.bar([1], mean_plain, color='r')\n",
    "\n",
    "    plt.ylabel(\"Time spent\")\n",
    "    plt.yticks(np.arange(0, mean_plain))\n",
    "\n",
    "    plt.xticks(range(0,1))\n",
    "    plt.legend((\"vectorized\",\"non - vectorized\"))\n",
    "\n",
    "    plt.show()\n",
    "\n",
    "interact(plot_mean_execution_time, \n",
    "            n=RadioButtons(options=[\"1\", \"10\", \"100\"]),\n",
    "            m=RadioButtons(options=[\"1\", \"10\", \"100\"], separator=\" \"));"
   ]
  },
  {
   "cell_type": "markdown",
   "metadata": {},
   "source": [
    "Мы принялись увлечённо экспериментировать, чтобы лучше понять, какова разница во времени работы у векторизованного и не векторизованного вариантов при разных `n` и `m`. Нетрудно заметить, что чем больше у нас данных, тем более впечатляющей эта разница становилась. "
   ]
  },
  {
   "cell_type": "markdown",
   "metadata": {},
   "source": [
    "## Обучение перцептрона\n",
    "\n",
    "Отлично, осталось научить наш перцептрон хорошо различать груши и яблоки - и Зюк сможет гулять в саду, не оставаясь при этом голодным! Давайте напишем код, который, приняв на вход пример и правильный ответ, будет изменять веса в соответствии с правилом обучения перцептрона. Это метод `train_on_single_example`, который вам и нужно будет сейчас реализовать."
   ]
  },
  {
   "cell_type": "code",
   "execution_count": 31,
   "metadata": {},
   "outputs": [],
   "source": [
    "class Perceptron:\n",
    "\n",
    "    def __init__(self, w, b):\n",
    "        \"\"\"\n",
    "        Инициализируем наш объект - перцептрон.\n",
    "        w - вектор весов размера (m, 1), где m - количество переменных\n",
    "        b - число\n",
    "        \"\"\"\n",
    "        \n",
    "        self.w = w\n",
    "        self.b = b\n",
    "\n",
    "    def forward_pass(self, single_input):\n",
    "        \"\"\"\n",
    "        Метод рассчитывает ответ перцептрона при предъявлении одного примера\n",
    "        single_input - вектор примера размера (m, 1).\n",
    "        Метод возвращает число (0 или 1) или boolean (True/False)\n",
    "        \"\"\"\n",
    "        \n",
    "        result = 0\n",
    "        for i in range(0, len(self.w)):\n",
    "            result += self.w[i] * single_input[i]\n",
    "        result += self.b\n",
    "        \n",
    "        if result > 0:\n",
    "            return 1\n",
    "        else:\n",
    "            return 0\n",
    "\n",
    "    def vectorized_forward_pass(self, input_matrix):\n",
    "        \"\"\"\n",
    "        Метод рассчитывает ответ перцептрона при предъявлении набора примеров\n",
    "        input_matrix - матрица примеров размера (n, m), каждая строка - отдельный пример,\n",
    "        n - количество примеров, m - количество переменных\n",
    "        Возвращает вертикальный вектор размера (n, 1) с ответами перцептрона\n",
    "        (элементы вектора - boolean или целые числа (0 или 1))\n",
    "        \"\"\"\n",
    "        n, m = input_matrix.shape\n",
    "        vector_result = (np.sign(input_matrix.dot(self.w) + self.b) + 1) / 2\n",
    "        return vector_result\n",
    "    \n",
    "    def train_on_single_example(self, example, y):\n",
    "        \"\"\"\n",
    "        принимает вектор активации входов example формы (m, 1) \n",
    "        и правильный ответ для него (число 0 или 1 или boolean),\n",
    "        обновляет значения весов перцептрона в соответствии с этим примером\n",
    "        и возвращает размер ошибки, которая случилась на этом примере до изменения весов (0 или 1)\n",
    "        (на её основании мы потом построим интересный график)\n",
    "        \"\"\"\n",
    "\n",
    "        y_pred = self.forward_pass(example)\n",
    "        if y_pred == y:\n",
    "            return 0 \n",
    "        error = y - y_pred\n",
    "        self.w += error * example\n",
    "        self.b += error\n",
    "        return error\n",
    "    \n",
    "    def train_until_convergence(self, input_matrix, y, max_steps=1e8):\n",
    "        \"\"\"\n",
    "        input_matrix - матрица входов размера (n, m),\n",
    "        y - вектор правильных ответов размера (n, 1) (y[i] - правильный ответ на пример input_matrix[i]),\n",
    "        max_steps - максимальное количество шагов.\n",
    "        Применяем train_on_single_example, пока не перестанем ошибаться или до умопомрачения.\n",
    "        Константа max_steps - наше понимание того, что считать умопомрачением.\n",
    "        \"\"\"\n",
    "        i = 0\n",
    "        errors = 1\n",
    "        while errors and i < max_steps:\n",
    "            i += 1\n",
    "            errors = 0\n",
    "            for example, answer in zip(input_matrix, y):\n",
    "                example = example.reshape((example.size, 1))\n",
    "                error = self.train_on_single_example(example, answer)\n",
    "                errors += int(error)  # int(True) = 1, int(False) = 0, так что можно не делать if"
   ]
  },
  {
   "cell_type": "markdown",
   "metadata": {},
   "source": [
    "## Визуализация обучения\n",
    "\n",
    "Отлично! С вашей помощью у Зюка появился перцептрон, который умеет учиться. В благодарность Зюк подготовил несколько функций, которые помогут посмотреть в динамике на то, как протекает процесс обучения перцептрона. \n",
    "\n",
    "/// В данном коде детально разбираться не обязательно, главное запустить каждую ячейку и посмотреть на анимацию.\n",
    "<br>/// Не забудьте остановить анимацию, иначе подвисание через полчаса-час гарантировано."
   ]
  },
  {
   "cell_type": "code",
   "execution_count": 32,
   "metadata": {},
   "outputs": [],
   "source": [
    "def plot_line(coefs):\n",
    "    \"\"\"\n",
    "    рисует разделяющую прямую, соответствующую весам, переданным в coefs = (weights, bias), \n",
    "    где weights - ndarray формы (2, 1), bias - число\n",
    "    \"\"\"\n",
    "    w, bias = coefs\n",
    "    a, b = - w[0][0] / w[1][0], - bias / w[1][0]\n",
    "    xx = np.linspace(*plt.xlim())\n",
    "    line.set_data(xx, a*xx + b)"
   ]
  },
  {
   "cell_type": "code",
   "execution_count": 33,
   "metadata": {},
   "outputs": [],
   "source": [
    "def step_by_step_weights(p, input_matrix, y, max_steps=1e6):\n",
    "    \"\"\"\n",
    "    обучает перцептрон последовательно на каждой строчке входных данных, \n",
    "    возвращает обновлённые веса при каждом их изменении\n",
    "    p - объект класса Perceptron\n",
    "    \"\"\"\n",
    "    i = 0\n",
    "    errors = 1\n",
    "    while errors and i < max_steps:\n",
    "        i += 1\n",
    "        errors = 0\n",
    "        for example, answer in zip(input_matrix, y):\n",
    "            example = example.reshape((example.size, 1))\n",
    "            \n",
    "            error = p.train_on_single_example(example, answer)\n",
    "            errors += error  # здесь мы упадём, если вы забыли вернуть размер ошибки из train_on_single_example\n",
    "            if error:  # будем обновлять положение линии только тогда, когда она изменила своё положение\n",
    "                yield p.w, p.b\n",
    "                \n",
    "    for _ in range(20): yield p.w, p.b"
   ]
  },
  {
   "cell_type": "code",
   "execution_count": 34,
   "metadata": {},
   "outputs": [
    {
     "data": {
      "application/javascript": "/* Put everything inside the global mpl namespace */\n/* global mpl */\nwindow.mpl = {};\n\nmpl.get_websocket_type = function () {\n    if (typeof WebSocket !== 'undefined') {\n        return WebSocket;\n    } else if (typeof MozWebSocket !== 'undefined') {\n        return MozWebSocket;\n    } else {\n        alert(\n            'Your browser does not have WebSocket support. ' +\n                'Please try Chrome, Safari or Firefox ≥ 6. ' +\n                'Firefox 4 and 5 are also supported but you ' +\n                'have to enable WebSockets in about:config.'\n        );\n    }\n};\n\nmpl.figure = function (figure_id, websocket, ondownload, parent_element) {\n    this.id = figure_id;\n\n    this.ws = websocket;\n\n    this.supports_binary = this.ws.binaryType !== undefined;\n\n    if (!this.supports_binary) {\n        var warnings = document.getElementById('mpl-warnings');\n        if (warnings) {\n            warnings.style.display = 'block';\n            warnings.textContent =\n                'This browser does not support binary websocket messages. ' +\n                'Performance may be slow.';\n        }\n    }\n\n    this.imageObj = new Image();\n\n    this.context = undefined;\n    this.message = undefined;\n    this.canvas = undefined;\n    this.rubberband_canvas = undefined;\n    this.rubberband_context = undefined;\n    this.format_dropdown = undefined;\n\n    this.image_mode = 'full';\n\n    this.root = document.createElement('div');\n    this.root.setAttribute('style', 'display: inline-block');\n    this._root_extra_style(this.root);\n\n    parent_element.appendChild(this.root);\n\n    this._init_header(this);\n    this._init_canvas(this);\n    this._init_toolbar(this);\n\n    var fig = this;\n\n    this.waiting = false;\n\n    this.ws.onopen = function () {\n        fig.send_message('supports_binary', { value: fig.supports_binary });\n        fig.send_message('send_image_mode', {});\n        if (fig.ratio !== 1) {\n            fig.send_message('set_device_pixel_ratio', {\n                device_pixel_ratio: fig.ratio,\n            });\n        }\n        fig.send_message('refresh', {});\n    };\n\n    this.imageObj.onload = function () {\n        if (fig.image_mode === 'full') {\n            // Full images could contain transparency (where diff images\n            // almost always do), so we need to clear the canvas so that\n            // there is no ghosting.\n            fig.context.clearRect(0, 0, fig.canvas.width, fig.canvas.height);\n        }\n        fig.context.drawImage(fig.imageObj, 0, 0);\n    };\n\n    this.imageObj.onunload = function () {\n        fig.ws.close();\n    };\n\n    this.ws.onmessage = this._make_on_message_function(this);\n\n    this.ondownload = ondownload;\n};\n\nmpl.figure.prototype._init_header = function () {\n    var titlebar = document.createElement('div');\n    titlebar.classList =\n        'ui-dialog-titlebar ui-widget-header ui-corner-all ui-helper-clearfix';\n    var titletext = document.createElement('div');\n    titletext.classList = 'ui-dialog-title';\n    titletext.setAttribute(\n        'style',\n        'width: 100%; text-align: center; padding: 3px;'\n    );\n    titlebar.appendChild(titletext);\n    this.root.appendChild(titlebar);\n    this.header = titletext;\n};\n\nmpl.figure.prototype._canvas_extra_style = function (_canvas_div) {};\n\nmpl.figure.prototype._root_extra_style = function (_canvas_div) {};\n\nmpl.figure.prototype._init_canvas = function () {\n    var fig = this;\n\n    var canvas_div = (this.canvas_div = document.createElement('div'));\n    canvas_div.setAttribute(\n        'style',\n        'border: 1px solid #ddd;' +\n            'box-sizing: content-box;' +\n            'clear: both;' +\n            'min-height: 1px;' +\n            'min-width: 1px;' +\n            'outline: 0;' +\n            'overflow: hidden;' +\n            'position: relative;' +\n            'resize: both;'\n    );\n\n    function on_keyboard_event_closure(name) {\n        return function (event) {\n            return fig.key_event(event, name);\n        };\n    }\n\n    canvas_div.addEventListener(\n        'keydown',\n        on_keyboard_event_closure('key_press')\n    );\n    canvas_div.addEventListener(\n        'keyup',\n        on_keyboard_event_closure('key_release')\n    );\n\n    this._canvas_extra_style(canvas_div);\n    this.root.appendChild(canvas_div);\n\n    var canvas = (this.canvas = document.createElement('canvas'));\n    canvas.classList.add('mpl-canvas');\n    canvas.setAttribute('style', 'box-sizing: content-box;');\n\n    this.context = canvas.getContext('2d');\n\n    var backingStore =\n        this.context.backingStorePixelRatio ||\n        this.context.webkitBackingStorePixelRatio ||\n        this.context.mozBackingStorePixelRatio ||\n        this.context.msBackingStorePixelRatio ||\n        this.context.oBackingStorePixelRatio ||\n        this.context.backingStorePixelRatio ||\n        1;\n\n    this.ratio = (window.devicePixelRatio || 1) / backingStore;\n\n    var rubberband_canvas = (this.rubberband_canvas = document.createElement(\n        'canvas'\n    ));\n    rubberband_canvas.setAttribute(\n        'style',\n        'box-sizing: content-box; position: absolute; left: 0; top: 0; z-index: 1;'\n    );\n\n    // Apply a ponyfill if ResizeObserver is not implemented by browser.\n    if (this.ResizeObserver === undefined) {\n        if (window.ResizeObserver !== undefined) {\n            this.ResizeObserver = window.ResizeObserver;\n        } else {\n            var obs = _JSXTOOLS_RESIZE_OBSERVER({});\n            this.ResizeObserver = obs.ResizeObserver;\n        }\n    }\n\n    this.resizeObserverInstance = new this.ResizeObserver(function (entries) {\n        var nentries = entries.length;\n        for (var i = 0; i < nentries; i++) {\n            var entry = entries[i];\n            var width, height;\n            if (entry.contentBoxSize) {\n                if (entry.contentBoxSize instanceof Array) {\n                    // Chrome 84 implements new version of spec.\n                    width = entry.contentBoxSize[0].inlineSize;\n                    height = entry.contentBoxSize[0].blockSize;\n                } else {\n                    // Firefox implements old version of spec.\n                    width = entry.contentBoxSize.inlineSize;\n                    height = entry.contentBoxSize.blockSize;\n                }\n            } else {\n                // Chrome <84 implements even older version of spec.\n                width = entry.contentRect.width;\n                height = entry.contentRect.height;\n            }\n\n            // Keep the size of the canvas and rubber band canvas in sync with\n            // the canvas container.\n            if (entry.devicePixelContentBoxSize) {\n                // Chrome 84 implements new version of spec.\n                canvas.setAttribute(\n                    'width',\n                    entry.devicePixelContentBoxSize[0].inlineSize\n                );\n                canvas.setAttribute(\n                    'height',\n                    entry.devicePixelContentBoxSize[0].blockSize\n                );\n            } else {\n                canvas.setAttribute('width', width * fig.ratio);\n                canvas.setAttribute('height', height * fig.ratio);\n            }\n            canvas.setAttribute(\n                'style',\n                'width: ' + width + 'px; height: ' + height + 'px;'\n            );\n\n            rubberband_canvas.setAttribute('width', width);\n            rubberband_canvas.setAttribute('height', height);\n\n            // And update the size in Python. We ignore the initial 0/0 size\n            // that occurs as the element is placed into the DOM, which should\n            // otherwise not happen due to the minimum size styling.\n            if (fig.ws.readyState == 1 && width != 0 && height != 0) {\n                fig.request_resize(width, height);\n            }\n        }\n    });\n    this.resizeObserverInstance.observe(canvas_div);\n\n    function on_mouse_event_closure(name) {\n        return function (event) {\n            return fig.mouse_event(event, name);\n        };\n    }\n\n    rubberband_canvas.addEventListener(\n        'mousedown',\n        on_mouse_event_closure('button_press')\n    );\n    rubberband_canvas.addEventListener(\n        'mouseup',\n        on_mouse_event_closure('button_release')\n    );\n    rubberband_canvas.addEventListener(\n        'dblclick',\n        on_mouse_event_closure('dblclick')\n    );\n    // Throttle sequential mouse events to 1 every 20ms.\n    rubberband_canvas.addEventListener(\n        'mousemove',\n        on_mouse_event_closure('motion_notify')\n    );\n\n    rubberband_canvas.addEventListener(\n        'mouseenter',\n        on_mouse_event_closure('figure_enter')\n    );\n    rubberband_canvas.addEventListener(\n        'mouseleave',\n        on_mouse_event_closure('figure_leave')\n    );\n\n    canvas_div.addEventListener('wheel', function (event) {\n        if (event.deltaY < 0) {\n            event.step = 1;\n        } else {\n            event.step = -1;\n        }\n        on_mouse_event_closure('scroll')(event);\n    });\n\n    canvas_div.appendChild(canvas);\n    canvas_div.appendChild(rubberband_canvas);\n\n    this.rubberband_context = rubberband_canvas.getContext('2d');\n    this.rubberband_context.strokeStyle = '#000000';\n\n    this._resize_canvas = function (width, height, forward) {\n        if (forward) {\n            canvas_div.style.width = width + 'px';\n            canvas_div.style.height = height + 'px';\n        }\n    };\n\n    // Disable right mouse context menu.\n    this.rubberband_canvas.addEventListener('contextmenu', function (_e) {\n        event.preventDefault();\n        return false;\n    });\n\n    function set_focus() {\n        canvas.focus();\n        canvas_div.focus();\n    }\n\n    window.setTimeout(set_focus, 100);\n};\n\nmpl.figure.prototype._init_toolbar = function () {\n    var fig = this;\n\n    var toolbar = document.createElement('div');\n    toolbar.classList = 'mpl-toolbar';\n    this.root.appendChild(toolbar);\n\n    function on_click_closure(name) {\n        return function (_event) {\n            return fig.toolbar_button_onclick(name);\n        };\n    }\n\n    function on_mouseover_closure(tooltip) {\n        return function (event) {\n            if (!event.currentTarget.disabled) {\n                return fig.toolbar_button_onmouseover(tooltip);\n            }\n        };\n    }\n\n    fig.buttons = {};\n    var buttonGroup = document.createElement('div');\n    buttonGroup.classList = 'mpl-button-group';\n    for (var toolbar_ind in mpl.toolbar_items) {\n        var name = mpl.toolbar_items[toolbar_ind][0];\n        var tooltip = mpl.toolbar_items[toolbar_ind][1];\n        var image = mpl.toolbar_items[toolbar_ind][2];\n        var method_name = mpl.toolbar_items[toolbar_ind][3];\n\n        if (!name) {\n            /* Instead of a spacer, we start a new button group. */\n            if (buttonGroup.hasChildNodes()) {\n                toolbar.appendChild(buttonGroup);\n            }\n            buttonGroup = document.createElement('div');\n            buttonGroup.classList = 'mpl-button-group';\n            continue;\n        }\n\n        var button = (fig.buttons[name] = document.createElement('button'));\n        button.classList = 'mpl-widget';\n        button.setAttribute('role', 'button');\n        button.setAttribute('aria-disabled', 'false');\n        button.addEventListener('click', on_click_closure(method_name));\n        button.addEventListener('mouseover', on_mouseover_closure(tooltip));\n\n        var icon_img = document.createElement('img');\n        icon_img.src = '_images/' + image + '.png';\n        icon_img.srcset = '_images/' + image + '_large.png 2x';\n        icon_img.alt = tooltip;\n        button.appendChild(icon_img);\n\n        buttonGroup.appendChild(button);\n    }\n\n    if (buttonGroup.hasChildNodes()) {\n        toolbar.appendChild(buttonGroup);\n    }\n\n    var fmt_picker = document.createElement('select');\n    fmt_picker.classList = 'mpl-widget';\n    toolbar.appendChild(fmt_picker);\n    this.format_dropdown = fmt_picker;\n\n    for (var ind in mpl.extensions) {\n        var fmt = mpl.extensions[ind];\n        var option = document.createElement('option');\n        option.selected = fmt === mpl.default_extension;\n        option.innerHTML = fmt;\n        fmt_picker.appendChild(option);\n    }\n\n    var status_bar = document.createElement('span');\n    status_bar.classList = 'mpl-message';\n    toolbar.appendChild(status_bar);\n    this.message = status_bar;\n};\n\nmpl.figure.prototype.request_resize = function (x_pixels, y_pixels) {\n    // Request matplotlib to resize the figure. Matplotlib will then trigger a resize in the client,\n    // which will in turn request a refresh of the image.\n    this.send_message('resize', { width: x_pixels, height: y_pixels });\n};\n\nmpl.figure.prototype.send_message = function (type, properties) {\n    properties['type'] = type;\n    properties['figure_id'] = this.id;\n    this.ws.send(JSON.stringify(properties));\n};\n\nmpl.figure.prototype.send_draw_message = function () {\n    if (!this.waiting) {\n        this.waiting = true;\n        this.ws.send(JSON.stringify({ type: 'draw', figure_id: this.id }));\n    }\n};\n\nmpl.figure.prototype.handle_save = function (fig, _msg) {\n    var format_dropdown = fig.format_dropdown;\n    var format = format_dropdown.options[format_dropdown.selectedIndex].value;\n    fig.ondownload(fig, format);\n};\n\nmpl.figure.prototype.handle_resize = function (fig, msg) {\n    var size = msg['size'];\n    if (size[0] !== fig.canvas.width || size[1] !== fig.canvas.height) {\n        fig._resize_canvas(size[0], size[1], msg['forward']);\n        fig.send_message('refresh', {});\n    }\n};\n\nmpl.figure.prototype.handle_rubberband = function (fig, msg) {\n    var x0 = msg['x0'] / fig.ratio;\n    var y0 = (fig.canvas.height - msg['y0']) / fig.ratio;\n    var x1 = msg['x1'] / fig.ratio;\n    var y1 = (fig.canvas.height - msg['y1']) / fig.ratio;\n    x0 = Math.floor(x0) + 0.5;\n    y0 = Math.floor(y0) + 0.5;\n    x1 = Math.floor(x1) + 0.5;\n    y1 = Math.floor(y1) + 0.5;\n    var min_x = Math.min(x0, x1);\n    var min_y = Math.min(y0, y1);\n    var width = Math.abs(x1 - x0);\n    var height = Math.abs(y1 - y0);\n\n    fig.rubberband_context.clearRect(\n        0,\n        0,\n        fig.canvas.width / fig.ratio,\n        fig.canvas.height / fig.ratio\n    );\n\n    fig.rubberband_context.strokeRect(min_x, min_y, width, height);\n};\n\nmpl.figure.prototype.handle_figure_label = function (fig, msg) {\n    // Updates the figure title.\n    fig.header.textContent = msg['label'];\n};\n\nmpl.figure.prototype.handle_cursor = function (fig, msg) {\n    fig.rubberband_canvas.style.cursor = msg['cursor'];\n};\n\nmpl.figure.prototype.handle_message = function (fig, msg) {\n    fig.message.textContent = msg['message'];\n};\n\nmpl.figure.prototype.handle_draw = function (fig, _msg) {\n    // Request the server to send over a new figure.\n    fig.send_draw_message();\n};\n\nmpl.figure.prototype.handle_image_mode = function (fig, msg) {\n    fig.image_mode = msg['mode'];\n};\n\nmpl.figure.prototype.handle_history_buttons = function (fig, msg) {\n    for (var key in msg) {\n        if (!(key in fig.buttons)) {\n            continue;\n        }\n        fig.buttons[key].disabled = !msg[key];\n        fig.buttons[key].setAttribute('aria-disabled', !msg[key]);\n    }\n};\n\nmpl.figure.prototype.handle_navigate_mode = function (fig, msg) {\n    if (msg['mode'] === 'PAN') {\n        fig.buttons['Pan'].classList.add('active');\n        fig.buttons['Zoom'].classList.remove('active');\n    } else if (msg['mode'] === 'ZOOM') {\n        fig.buttons['Pan'].classList.remove('active');\n        fig.buttons['Zoom'].classList.add('active');\n    } else {\n        fig.buttons['Pan'].classList.remove('active');\n        fig.buttons['Zoom'].classList.remove('active');\n    }\n};\n\nmpl.figure.prototype.updated_canvas_event = function () {\n    // Called whenever the canvas gets updated.\n    this.send_message('ack', {});\n};\n\n// A function to construct a web socket function for onmessage handling.\n// Called in the figure constructor.\nmpl.figure.prototype._make_on_message_function = function (fig) {\n    return function socket_on_message(evt) {\n        if (evt.data instanceof Blob) {\n            var img = evt.data;\n            if (img.type !== 'image/png') {\n                /* FIXME: We get \"Resource interpreted as Image but\n                 * transferred with MIME type text/plain:\" errors on\n                 * Chrome.  But how to set the MIME type?  It doesn't seem\n                 * to be part of the websocket stream */\n                img.type = 'image/png';\n            }\n\n            /* Free the memory for the previous frames */\n            if (fig.imageObj.src) {\n                (window.URL || window.webkitURL).revokeObjectURL(\n                    fig.imageObj.src\n                );\n            }\n\n            fig.imageObj.src = (window.URL || window.webkitURL).createObjectURL(\n                img\n            );\n            fig.updated_canvas_event();\n            fig.waiting = false;\n            return;\n        } else if (\n            typeof evt.data === 'string' &&\n            evt.data.slice(0, 21) === 'data:image/png;base64'\n        ) {\n            fig.imageObj.src = evt.data;\n            fig.updated_canvas_event();\n            fig.waiting = false;\n            return;\n        }\n\n        var msg = JSON.parse(evt.data);\n        var msg_type = msg['type'];\n\n        // Call the  \"handle_{type}\" callback, which takes\n        // the figure and JSON message as its only arguments.\n        try {\n            var callback = fig['handle_' + msg_type];\n        } catch (e) {\n            console.log(\n                \"No handler for the '\" + msg_type + \"' message type: \",\n                msg\n            );\n            return;\n        }\n\n        if (callback) {\n            try {\n                // console.log(\"Handling '\" + msg_type + \"' message: \", msg);\n                callback(fig, msg);\n            } catch (e) {\n                console.log(\n                    \"Exception inside the 'handler_\" + msg_type + \"' callback:\",\n                    e,\n                    e.stack,\n                    msg\n                );\n            }\n        }\n    };\n};\n\n// from https://stackoverflow.com/questions/1114465/getting-mouse-location-in-canvas\nmpl.findpos = function (e) {\n    //this section is from http://www.quirksmode.org/js/events_properties.html\n    var targ;\n    if (!e) {\n        e = window.event;\n    }\n    if (e.target) {\n        targ = e.target;\n    } else if (e.srcElement) {\n        targ = e.srcElement;\n    }\n    if (targ.nodeType === 3) {\n        // defeat Safari bug\n        targ = targ.parentNode;\n    }\n\n    // pageX,Y are the mouse positions relative to the document\n    var boundingRect = targ.getBoundingClientRect();\n    var x = e.pageX - (boundingRect.left + document.body.scrollLeft);\n    var y = e.pageY - (boundingRect.top + document.body.scrollTop);\n\n    return { x: x, y: y };\n};\n\n/*\n * return a copy of an object with only non-object keys\n * we need this to avoid circular references\n * https://stackoverflow.com/a/24161582/3208463\n */\nfunction simpleKeys(original) {\n    return Object.keys(original).reduce(function (obj, key) {\n        if (typeof original[key] !== 'object') {\n            obj[key] = original[key];\n        }\n        return obj;\n    }, {});\n}\n\nmpl.figure.prototype.mouse_event = function (event, name) {\n    var canvas_pos = mpl.findpos(event);\n\n    if (name === 'button_press') {\n        this.canvas.focus();\n        this.canvas_div.focus();\n    }\n\n    var x = canvas_pos.x * this.ratio;\n    var y = canvas_pos.y * this.ratio;\n\n    this.send_message(name, {\n        x: x,\n        y: y,\n        button: event.button,\n        step: event.step,\n        guiEvent: simpleKeys(event),\n    });\n\n    /* This prevents the web browser from automatically changing to\n     * the text insertion cursor when the button is pressed.  We want\n     * to control all of the cursor setting manually through the\n     * 'cursor' event from matplotlib */\n    event.preventDefault();\n    return false;\n};\n\nmpl.figure.prototype._key_event_extra = function (_event, _name) {\n    // Handle any extra behaviour associated with a key event\n};\n\nmpl.figure.prototype.key_event = function (event, name) {\n    // Prevent repeat events\n    if (name === 'key_press') {\n        if (event.key === this._key) {\n            return;\n        } else {\n            this._key = event.key;\n        }\n    }\n    if (name === 'key_release') {\n        this._key = null;\n    }\n\n    var value = '';\n    if (event.ctrlKey && event.key !== 'Control') {\n        value += 'ctrl+';\n    }\n    else if (event.altKey && event.key !== 'Alt') {\n        value += 'alt+';\n    }\n    else if (event.shiftKey && event.key !== 'Shift') {\n        value += 'shift+';\n    }\n\n    value += 'k' + event.key;\n\n    this._key_event_extra(event, name);\n\n    this.send_message(name, { key: value, guiEvent: simpleKeys(event) });\n    return false;\n};\n\nmpl.figure.prototype.toolbar_button_onclick = function (name) {\n    if (name === 'download') {\n        this.handle_save(this, null);\n    } else {\n        this.send_message('toolbar_button', { name: name });\n    }\n};\n\nmpl.figure.prototype.toolbar_button_onmouseover = function (tooltip) {\n    this.message.textContent = tooltip;\n};\n\n///////////////// REMAINING CONTENT GENERATED BY embed_js.py /////////////////\n// prettier-ignore\nvar _JSXTOOLS_RESIZE_OBSERVER=function(A){var t,i=new WeakMap,n=new WeakMap,a=new WeakMap,r=new WeakMap,o=new Set;function s(e){if(!(this instanceof s))throw new TypeError(\"Constructor requires 'new' operator\");i.set(this,e)}function h(){throw new TypeError(\"Function is not a constructor\")}function c(e,t,i,n){e=0 in arguments?Number(arguments[0]):0,t=1 in arguments?Number(arguments[1]):0,i=2 in arguments?Number(arguments[2]):0,n=3 in arguments?Number(arguments[3]):0,this.right=(this.x=this.left=e)+(this.width=i),this.bottom=(this.y=this.top=t)+(this.height=n),Object.freeze(this)}function d(){t=requestAnimationFrame(d);var s=new WeakMap,p=new Set;o.forEach((function(t){r.get(t).forEach((function(i){var r=t instanceof window.SVGElement,o=a.get(t),d=r?0:parseFloat(o.paddingTop),f=r?0:parseFloat(o.paddingRight),l=r?0:parseFloat(o.paddingBottom),u=r?0:parseFloat(o.paddingLeft),g=r?0:parseFloat(o.borderTopWidth),m=r?0:parseFloat(o.borderRightWidth),w=r?0:parseFloat(o.borderBottomWidth),b=u+f,F=d+l,v=(r?0:parseFloat(o.borderLeftWidth))+m,W=g+w,y=r?0:t.offsetHeight-W-t.clientHeight,E=r?0:t.offsetWidth-v-t.clientWidth,R=b+v,z=F+W,M=r?t.width:parseFloat(o.width)-R-E,O=r?t.height:parseFloat(o.height)-z-y;if(n.has(t)){var k=n.get(t);if(k[0]===M&&k[1]===O)return}n.set(t,[M,O]);var S=Object.create(h.prototype);S.target=t,S.contentRect=new c(u,d,M,O),s.has(i)||(s.set(i,[]),p.add(i)),s.get(i).push(S)}))})),p.forEach((function(e){i.get(e).call(e,s.get(e),e)}))}return s.prototype.observe=function(i){if(i instanceof window.Element){r.has(i)||(r.set(i,new Set),o.add(i),a.set(i,window.getComputedStyle(i)));var n=r.get(i);n.has(this)||n.add(this),cancelAnimationFrame(t),t=requestAnimationFrame(d)}},s.prototype.unobserve=function(i){if(i instanceof window.Element&&r.has(i)){var n=r.get(i);n.has(this)&&(n.delete(this),n.size||(r.delete(i),o.delete(i))),n.size||r.delete(i),o.size||cancelAnimationFrame(t)}},A.DOMRectReadOnly=c,A.ResizeObserver=s,A.ResizeObserverEntry=h,A}; // eslint-disable-line\nmpl.toolbar_items = [[\"Home\", \"Reset original view\", \"fa fa-home icon-home\", \"home\"], [\"Back\", \"Back to previous view\", \"fa fa-arrow-left icon-arrow-left\", \"back\"], [\"Forward\", \"Forward to next view\", \"fa fa-arrow-right icon-arrow-right\", \"forward\"], [\"\", \"\", \"\", \"\"], [\"Pan\", \"Left button pans, Right button zooms\\nx/y fixes axis, CTRL fixes aspect\", \"fa fa-arrows icon-move\", \"pan\"], [\"Zoom\", \"Zoom to rectangle\\nx/y fixes axis\", \"fa fa-square-o icon-check-empty\", \"zoom\"], [\"\", \"\", \"\", \"\"], [\"Download\", \"Download plot\", \"fa fa-floppy-o icon-save\", \"download\"]];\n\nmpl.extensions = [\"eps\", \"jpeg\", \"pgf\", \"pdf\", \"png\", \"ps\", \"raw\", \"svg\", \"tif\"];\n\nmpl.default_extension = \"png\";/* global mpl */\n\nvar comm_websocket_adapter = function (comm) {\n    // Create a \"websocket\"-like object which calls the given IPython comm\n    // object with the appropriate methods. Currently this is a non binary\n    // socket, so there is still some room for performance tuning.\n    var ws = {};\n\n    ws.binaryType = comm.kernel.ws.binaryType;\n    ws.readyState = comm.kernel.ws.readyState;\n    function updateReadyState(_event) {\n        if (comm.kernel.ws) {\n            ws.readyState = comm.kernel.ws.readyState;\n        } else {\n            ws.readyState = 3; // Closed state.\n        }\n    }\n    comm.kernel.ws.addEventListener('open', updateReadyState);\n    comm.kernel.ws.addEventListener('close', updateReadyState);\n    comm.kernel.ws.addEventListener('error', updateReadyState);\n\n    ws.close = function () {\n        comm.close();\n    };\n    ws.send = function (m) {\n        //console.log('sending', m);\n        comm.send(m);\n    };\n    // Register the callback with on_msg.\n    comm.on_msg(function (msg) {\n        //console.log('receiving', msg['content']['data'], msg);\n        var data = msg['content']['data'];\n        if (data['blob'] !== undefined) {\n            data = {\n                data: new Blob(msg['buffers'], { type: data['blob'] }),\n            };\n        }\n        // Pass the mpl event to the overridden (by mpl) onmessage function.\n        ws.onmessage(data);\n    });\n    return ws;\n};\n\nmpl.mpl_figure_comm = function (comm, msg) {\n    // This is the function which gets called when the mpl process\n    // starts-up an IPython Comm through the \"matplotlib\" channel.\n\n    var id = msg.content.data.id;\n    // Get hold of the div created by the display call when the Comm\n    // socket was opened in Python.\n    var element = document.getElementById(id);\n    var ws_proxy = comm_websocket_adapter(comm);\n\n    function ondownload(figure, _format) {\n        window.open(figure.canvas.toDataURL());\n    }\n\n    var fig = new mpl.figure(id, ws_proxy, ondownload, element);\n\n    // Call onopen now - mpl needs it, as it is assuming we've passed it a real\n    // web socket which is closed, not our websocket->open comm proxy.\n    ws_proxy.onopen();\n\n    fig.parent_element = element;\n    fig.cell_info = mpl.find_output_cell(\"<div id='\" + id + \"'></div>\");\n    if (!fig.cell_info) {\n        console.error('Failed to find cell for figure', id, fig);\n        return;\n    }\n    fig.cell_info[0].output_area.element.on(\n        'cleared',\n        { fig: fig },\n        fig._remove_fig_handler\n    );\n};\n\nmpl.figure.prototype.handle_close = function (fig, msg) {\n    var width = fig.canvas.width / fig.ratio;\n    fig.cell_info[0].output_area.element.off(\n        'cleared',\n        fig._remove_fig_handler\n    );\n    fig.resizeObserverInstance.unobserve(fig.canvas_div);\n\n    // Update the output cell to use the data from the current canvas.\n    fig.push_to_output();\n    var dataURL = fig.canvas.toDataURL();\n    // Re-enable the keyboard manager in IPython - without this line, in FF,\n    // the notebook keyboard shortcuts fail.\n    IPython.keyboard_manager.enable();\n    fig.parent_element.innerHTML =\n        '<img src=\"' + dataURL + '\" width=\"' + width + '\">';\n    fig.close_ws(fig, msg);\n};\n\nmpl.figure.prototype.close_ws = function (fig, msg) {\n    fig.send_message('closing', msg);\n    // fig.ws.close()\n};\n\nmpl.figure.prototype.push_to_output = function (_remove_interactive) {\n    // Turn the data on the canvas into data in the output cell.\n    var width = this.canvas.width / this.ratio;\n    var dataURL = this.canvas.toDataURL();\n    this.cell_info[1]['text/html'] =\n        '<img src=\"' + dataURL + '\" width=\"' + width + '\">';\n};\n\nmpl.figure.prototype.updated_canvas_event = function () {\n    // Tell IPython that the notebook contents must change.\n    IPython.notebook.set_dirty(true);\n    this.send_message('ack', {});\n    var fig = this;\n    // Wait a second, then push the new image to the DOM so\n    // that it is saved nicely (might be nice to debounce this).\n    setTimeout(function () {\n        fig.push_to_output();\n    }, 1000);\n};\n\nmpl.figure.prototype._init_toolbar = function () {\n    var fig = this;\n\n    var toolbar = document.createElement('div');\n    toolbar.classList = 'btn-toolbar';\n    this.root.appendChild(toolbar);\n\n    function on_click_closure(name) {\n        return function (_event) {\n            return fig.toolbar_button_onclick(name);\n        };\n    }\n\n    function on_mouseover_closure(tooltip) {\n        return function (event) {\n            if (!event.currentTarget.disabled) {\n                return fig.toolbar_button_onmouseover(tooltip);\n            }\n        };\n    }\n\n    fig.buttons = {};\n    var buttonGroup = document.createElement('div');\n    buttonGroup.classList = 'btn-group';\n    var button;\n    for (var toolbar_ind in mpl.toolbar_items) {\n        var name = mpl.toolbar_items[toolbar_ind][0];\n        var tooltip = mpl.toolbar_items[toolbar_ind][1];\n        var image = mpl.toolbar_items[toolbar_ind][2];\n        var method_name = mpl.toolbar_items[toolbar_ind][3];\n\n        if (!name) {\n            /* Instead of a spacer, we start a new button group. */\n            if (buttonGroup.hasChildNodes()) {\n                toolbar.appendChild(buttonGroup);\n            }\n            buttonGroup = document.createElement('div');\n            buttonGroup.classList = 'btn-group';\n            continue;\n        }\n\n        button = fig.buttons[name] = document.createElement('button');\n        button.classList = 'btn btn-default';\n        button.href = '#';\n        button.title = name;\n        button.innerHTML = '<i class=\"fa ' + image + ' fa-lg\"></i>';\n        button.addEventListener('click', on_click_closure(method_name));\n        button.addEventListener('mouseover', on_mouseover_closure(tooltip));\n        buttonGroup.appendChild(button);\n    }\n\n    if (buttonGroup.hasChildNodes()) {\n        toolbar.appendChild(buttonGroup);\n    }\n\n    // Add the status bar.\n    var status_bar = document.createElement('span');\n    status_bar.classList = 'mpl-message pull-right';\n    toolbar.appendChild(status_bar);\n    this.message = status_bar;\n\n    // Add the close button to the window.\n    var buttongrp = document.createElement('div');\n    buttongrp.classList = 'btn-group inline pull-right';\n    button = document.createElement('button');\n    button.classList = 'btn btn-mini btn-primary';\n    button.href = '#';\n    button.title = 'Stop Interaction';\n    button.innerHTML = '<i class=\"fa fa-power-off icon-remove icon-large\"></i>';\n    button.addEventListener('click', function (_evt) {\n        fig.handle_close(fig, {});\n    });\n    button.addEventListener(\n        'mouseover',\n        on_mouseover_closure('Stop Interaction')\n    );\n    buttongrp.appendChild(button);\n    var titlebar = this.root.querySelector('.ui-dialog-titlebar');\n    titlebar.insertBefore(buttongrp, titlebar.firstChild);\n};\n\nmpl.figure.prototype._remove_fig_handler = function (event) {\n    var fig = event.data.fig;\n    if (event.target !== this) {\n        // Ignore bubbled events from children.\n        return;\n    }\n    fig.close_ws(fig, {});\n};\n\nmpl.figure.prototype._root_extra_style = function (el) {\n    el.style.boxSizing = 'content-box'; // override notebook setting of border-box.\n};\n\nmpl.figure.prototype._canvas_extra_style = function (el) {\n    // this is important to make the div 'focusable\n    el.setAttribute('tabindex', 0);\n    // reach out to IPython and tell the keyboard manager to turn it's self\n    // off when our div gets focus\n\n    // location in version 3\n    if (IPython.notebook.keyboard_manager) {\n        IPython.notebook.keyboard_manager.register_events(el);\n    } else {\n        // location in version 2\n        IPython.keyboard_manager.register_events(el);\n    }\n};\n\nmpl.figure.prototype._key_event_extra = function (event, _name) {\n    // Check for shift+enter\n    if (event.shiftKey && event.which === 13) {\n        this.canvas_div.blur();\n        // select the cell after this one\n        var index = IPython.notebook.find_cell_index(this.cell_info[0]);\n        IPython.notebook.select(index + 1);\n    }\n};\n\nmpl.figure.prototype.handle_save = function (fig, _msg) {\n    fig.ondownload(fig, null);\n};\n\nmpl.find_output_cell = function (html_output) {\n    // Return the cell and output element which can be found *uniquely* in the notebook.\n    // Note - this is a bit hacky, but it is done because the \"notebook_saving.Notebook\"\n    // IPython event is triggered only after the cells have been serialised, which for\n    // our purposes (turning an active figure into a static one), is too late.\n    var cells = IPython.notebook.get_cells();\n    var ncells = cells.length;\n    for (var i = 0; i < ncells; i++) {\n        var cell = cells[i];\n        if (cell.cell_type === 'code') {\n            for (var j = 0; j < cell.output_area.outputs.length; j++) {\n                var data = cell.output_area.outputs[j];\n                if (data.data) {\n                    // IPython >= 3 moved mimebundle to data attribute of output\n                    data = data.data;\n                }\n                if (data['text/html'] === html_output) {\n                    return [cell, data, j];\n                }\n            }\n        }\n    }\n};\n\n// Register the function which deals with the matplotlib target/channel.\n// The kernel may be null if the page has been refreshed.\nif (IPython.notebook.kernel !== null) {\n    IPython.notebook.kernel.comm_manager.register_target(\n        'matplotlib',\n        mpl.mpl_figure_comm\n    );\n}\n",
      "text/plain": [
       "<IPython.core.display.Javascript object>"
      ]
     },
     "metadata": {},
     "output_type": "display_data"
    },
    {
     "data": {
      "text/html": [
       "<img src=\"data:image/png;base64,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\" width=\"431.5\">"
      ],
      "text/plain": [
       "<IPython.core.display.HTML object>"
      ]
     },
     "metadata": {},
     "output_type": "display_data"
    }
   ],
   "source": [
    "%matplotlib nbagg\n",
    "\n",
    "np.random.seed(1)\n",
    "fig = plt.figure()\n",
    "plt.scatter(data[apples][:, 0], data[apples][:, 1], color = \"red\", marker=\".\", label=\"Apples\")\n",
    "plt.scatter(data[pears][:, 0], data[pears][:, 1], color = \"green\", marker=\".\", label=\"Pears\")\n",
    "plt.xlabel(\"yellowness\")\n",
    "plt.ylabel(\"symmetry\")\n",
    "line, = plt.plot([], [], color=\"black\", linewidth=2)  # создаём линию, которая будет показывать границу разделения\n",
    "\n",
    "from matplotlib.animation import FuncAnimation\n",
    "\n",
    "perceptron_for_weights_line = create_perceptron(2)  # создаём перцептрон нужной размерности со случайными весами\n",
    "\n",
    "from functools import partial\n",
    "weights_ani = partial(\n",
    "    step_by_step_weights, p=perceptron_for_weights_line, input_matrix=data[:, :-1], y=data[:, -1][:,np.newaxis]\n",
    ")  # про partial почитайте на https://docs.python.org/3/library/functools.html#functools.partial\n",
    "\n",
    "ani = FuncAnimation(fig, func=plot_line, frames=weights_ani, blit=False, interval=10, repeat=True)\n",
    "# если Jupyter не показывает вам анимацию - раскомментируйте строчку ниже и посмотрите видео\n",
    "# ani.save(\"perceptron_seeking_for_solution.mp4\", fps=15)\n",
    "plt.show()\n",
    "\n",
    "## Не забудьте остановить генерацию новых картинок, прежде чем идти дальше (кнопка \"выключить\" в правом верхнем углу графика)"
   ]
  },
  {
   "cell_type": "markdown",
   "metadata": {},
   "source": [
    "Он также подготовил несколько примеров, чтобы проиллюстрировать философию обучения перцептрона, которая не всегда интуитивна.\n",
    "\n",
    "Во-первых, количество неправильно классифицированных примеров не всегда уменьшается. То есть в процессе обучения у перцептрона могут случаться \"взлёты и падения\" - делился мудростью Зюк."
   ]
  },
  {
   "cell_type": "code",
   "execution_count": 35,
   "metadata": {},
   "outputs": [],
   "source": [
    "def step_by_step_errors(p, input_matrix, y, max_steps=1e6):\n",
    "    \"\"\"\n",
    "    обучает перцептрон последовательно на каждой строчке входных данных, \n",
    "    на каждом шаге обучения запоминает количество неправильно классифицированных примеров\n",
    "    и возвращает список из этих количеств\n",
    "    \"\"\"\n",
    "    def count_errors():\n",
    "        return np.abs(p.vectorized_forward_pass(input_matrix).astype(np.int) - y).sum()\n",
    "    errors_list = [count_errors()]\n",
    "    i = 0\n",
    "    errors = 1\n",
    "    while errors and i < max_steps:\n",
    "        i += 1\n",
    "        errors = 0\n",
    "        for example, answer in zip(input_matrix, y):\n",
    "            example = example.reshape((example.size, 1))\n",
    "            \n",
    "            error = p.train_on_single_example(example, answer)\n",
    "            errors += error\n",
    "            errors_list.append(count_errors())\n",
    "    return errors_list"
   ]
  },
  {
   "cell_type": "code",
   "execution_count": 36,
   "metadata": {},
   "outputs": [
    {
     "name": "stderr",
     "output_type": "stream",
     "text": [
      "/var/folders/xw/_xp45_dn0m116r476_pcfslc0000gn/T/ipykernel_27368/1131374086.py:8: DeprecationWarning: `np.int` is a deprecated alias for the builtin `int`. To silence this warning, use `int` by itself. Doing this will not modify any behavior and is safe. When replacing `np.int`, you may wish to use e.g. `np.int64` or `np.int32` to specify the precision. If you wish to review your current use, check the release note link for additional information.\n",
      "Deprecated in NumPy 1.20; for more details and guidance: https://numpy.org/devdocs/release/1.20.0-notes.html#deprecations\n",
      "  return np.abs(p.vectorized_forward_pass(input_matrix).astype(np.int) - y).sum()\n"
     ]
    },
    {
     "data": {
      "image/png": "[encoded data removed]",
      "text/plain": [
       "<Figure size 432x288 with 1 Axes>"
      ]
     },
     "metadata": {
      "needs_background": "light"
     },
     "output_type": "display_data"
    }
   ],
   "source": [
    "%matplotlib inline\n",
    "perceptron_for_misclassification = create_perceptron(2)\n",
    "errors_list = step_by_step_errors(perceptron_for_misclassification, input_matrix=data[:, :-1], y=data[:, -1][:,np.newaxis])\n",
    "plt.plot(errors_list);\n",
    "plt.ylabel(\"Number of errors\")\n",
    "plt.xlabel(\"Algorithm step number\");"
   ]
  },
  {
   "cell_type": "markdown",
   "metadata": {},
   "source": [
    "Мы испугались, что что-то идёт не так, но Зюк успокоил нас, сказав что такой страшный график - следствие нашей философии. Ведь философия обучения перцептрона в том, что лучше будут становиться веса, а не ответы.\n",
    "\n",
    "\"А как именно веса становятся лучше?\" - вот вопрос, который теперь волновал каждого из нас. Мы решили посмотреть, как перцептрон научился тому, чему он научился. Возьмём тот вектор весов, к которым перцептрон сошёлся, и посмотрим, как изменяется расстояние до него, пока перцептрон учится."
   ]
  },
  {
   "cell_type": "code",
   "execution_count": 37,
   "metadata": {},
   "outputs": [],
   "source": [
    "def get_vector(p):\n",
    "    \"\"\"возвращает вектор из всех весов перцептрона, включая смещение\"\"\"\n",
    "    v = np.array(list(p.w.ravel()) + [p.b])\n",
    "    return v"
   ]
  },
  {
   "cell_type": "code",
   "execution_count": 38,
   "metadata": {},
   "outputs": [],
   "source": [
    "def step_by_step_distances(p, ideal, input_matrix, y, max_steps=1e6):\n",
    "    \"\"\"обучает перцептрон p и записывает каждое изменение расстояния от текущих весов до ideal\"\"\"\n",
    "    distances = [norm(get_vector(p) - ideal)]\n",
    "    i = 0\n",
    "    errors = 1\n",
    "    while errors and i < max_steps:\n",
    "        i += 1\n",
    "        errors = 0\n",
    "        for example, answer in zip(input_matrix, y):\n",
    "            example = example.reshape((example.size, 1))\n",
    "            \n",
    "            error = p.train_on_single_example(example, answer)\n",
    "            errors += error\n",
    "            if error:\n",
    "                distances.append(norm(get_vector(p) - ideal))\n",
    "    return distances"
   ]
  },
  {
   "cell_type": "code",
   "execution_count": 39,
   "metadata": {},
   "outputs": [
    {
     "name": "stderr",
     "output_type": "stream",
     "text": [
      "/var/folders/xw/_xp45_dn0m116r476_pcfslc0000gn/T/ipykernel_27368/167179135.py:3: VisibleDeprecationWarning: Creating an ndarray from ragged nested sequences (which is a list-or-tuple of lists-or-tuples-or ndarrays with different lengths or shapes) is deprecated. If you meant to do this, you must specify 'dtype=object' when creating the ndarray.\n",
      "  v = np.array(list(p.w.ravel()) + [p.b])\n"
     ]
    },
    {
     "data": {
      "image/png": "[encoded data removed]",
      "text/plain": [
       "<Figure size 432x288 with 1 Axes>"
      ]
     },
     "metadata": {
      "needs_background": "light"
     },
     "output_type": "display_data"
    }
   ],
   "source": [
    "%matplotlib inline\n",
    "\n",
    "np.random.seed(42)\n",
    "init_weights = np.random.random_sample(3)\n",
    "w, b = init_weights[:-1].reshape((2, 1)), init_weights[-1]\n",
    "ideal_p = Perceptron(w.copy(), b.copy())\n",
    "ideal_p.train_until_convergence(data[:, :-1], data[:, -1][:,np.newaxis])\n",
    "ideal_weights = get_vector(ideal_p)\n",
    "\n",
    "new_p = Perceptron(w.copy(), b.copy())\n",
    "distances = step_by_step_distances(new_p, ideal_weights, data[:, :-1], data[:, -1][:,np.newaxis])\n",
    "\n",
    "plt.xlabel(\"Number of weight updates\")\n",
    "plt.ylabel(\"Distance between good and current weights\")\n",
    "plt.plot(distances);"
   ]
  },
  {
   "cell_type": "markdown",
   "metadata": {},
   "source": [
    "Как и можно было догадаться ещё по тому, как вела себя прямая на нашей анимированной картинке, вектор весов постепенно приближается к множеству хороших весов, хотя тоже \"не всё гладко\". Постарайтесь понять, почему, вспомнив доказательство сходимости перцептрона и понятие \"векторов весов, хороших \"с запасом\"\"."
   ]
  },
  {
   "cell_type": "markdown",
   "metadata": {},
   "source": [
    "# Градиентный спуск"
   ]
  },
  {
   "cell_type": "markdown",
   "metadata": {},
   "source": [
    "Покончив с перцептроном, Зюк несколько торопливо предложил посмотреть, как в подобной ситуации себя проявит логистический нейрон, основанный на градиентном спуске. В ответ на наши недоумевающие взгляды Зюк смущённо объяснил, что очень боится, что ему когда-нибудь попадётся какое-то \"необычное\" яблоко или груша. Тогда данные могут перестать быть линейно разделимыми, и он рискует зависнуть, обучая несходящийся перцептрон. Для взрослого Нейрянина допустить такое - большой позор.\n",
    "\n",
    "Конечно, можно поставить ограничение на число шагов алгоритма... Но если вспомнить, как выглядит график количества ошибок, сразу станет понятно, что мы рискуем получить очень плохой классификатор, если оборвём процесс обучения раньше, чем нужно.\n",
    "\n",
    "Мы пропросили Зюка не подсказывать нам слишком много на этот раз. Всё-таки мы хотим сами научиться программировать нейросети.\n",
    "Зюк вежливо согласился, но настоял, чтобы мы посмотрели на его заготовку. Ключевые моменты он спрятал, предоставив нам возможность попрактиковаться.\n",
    "\n",
    "/// Изучите код и реализуйте пропущенные функции."
   ]
  },
  {
   "cell_type": "code",
   "execution_count": 40,
   "metadata": {},
   "outputs": [],
   "source": [
    "## Определим разные полезные функции\n",
    "\n",
    "def sigmoid(x):\n",
    "    \"\"\"сигмоидальная функция, работает и с числами, и с векторами (поэлементно)\"\"\"\n",
    "    return 1 / (1 + np.exp(-x))\n",
    "\n",
    "def sigmoid_prime(x):\n",
    "    \"\"\"производная сигмоидальной функции, работает и с числами, и с векторами (поэлементно)\"\"\"\n",
    "    return sigmoid(x) * (1 - sigmoid(x))"
   ]
  },
  {
   "cell_type": "markdown",
   "metadata": {},
   "source": [
    "Класс Neuron нас немного напугал... Такая махина. Зюк заверил нас, что он только кажется большим. На самом деле можно было всё это написать в три-четыре строчки, но вот понять их - это было бы сложнее. Он также извинился за многословность и неоптимальность реализации, объясняя её тем, что \"на таком удобнее учиться\". Пришлось поверить."
   ]
  },
  {
   "cell_type": "code",
   "execution_count": 145,
   "metadata": {},
   "outputs": [],
   "source": [
    "class Neuron:\n",
    "    \n",
    "    def __init__(self, weights, activation_function=sigmoid, activation_function_derivative=sigmoid_prime):\n",
    "        \"\"\"\n",
    "        weights - вертикальный вектор весов нейрона формы (m, 1), weights[0][0] - смещение\n",
    "        activation_function - активационная функция нейрона, сигмоидальная функция по умолчанию\n",
    "        activation_function_derivative - производная активационной функции нейрона\n",
    "        \"\"\"\n",
    "        \n",
    "        assert weights.shape[1] == 1, \"Incorrect weight shape\"\n",
    "        \n",
    "        self.w = weights\n",
    "        self.activation_function = activation_function\n",
    "        self.activation_function_derivative = activation_function_derivative\n",
    "        \n",
    "    def forward_pass(self, single_input):\n",
    "        \"\"\"\n",
    "        активационная функция логистического нейрона\n",
    "        single_input - вектор входов формы (m, 1), \n",
    "        первый элемент вектора single_input - единица (если вы хотите учитывать смещение)\n",
    "        \"\"\"\n",
    "        \n",
    "        result = 0\n",
    "        for i in range(self.w.size):\n",
    "            result += float(self.w[i] * single_input[i])\n",
    "        return self.activation_function(result)\n",
    "    \n",
    "    def summatory(self, input_matrix):\n",
    "        \"\"\"\n",
    "        Вычисляет результат сумматорной функции для каждого примера из input_matrix. \n",
    "        input_matrix - матрица примеров размера (n, m), каждая строка - отдельный пример,\n",
    "        n - количество примеров, m - количество переменных.\n",
    "        Возвращает вектор значений сумматорной функции размера (n, 1).\n",
    "        \"\"\"\n",
    "        return input_matrix.dot(self.w)\n",
    "    \n",
    "    def activation(self, summatory_activation):\n",
    "        \"\"\"\n",
    "        Вычисляет для каждого примера результат активационной функции,\n",
    "        получив на вход вектор значений сумматорной функций\n",
    "        summatory_activation - вектор размера (n, 1), \n",
    "        где summatory_activation[i] - значение суммматорной функции для i-го примера.\n",
    "        Возвращает вектор размера (n, 1), содержащий в i-й строке \n",
    "        значение активационной функции для i-го примера.\n",
    "        \"\"\"\n",
    "        return self.activation_function(summatory_activation)\n",
    "        \n",
    "    \n",
    "    def vectorized_forward_pass(self, input_matrix):\n",
    "        \"\"\"\n",
    "        Векторизованная активационная функция логистического нейрона.\n",
    "        input_matrix - матрица примеров размера (n, m), каждая строка - отдельный пример,\n",
    "        n - количество примеров, m - количество переменных.\n",
    "        Возвращает вертикальный вектор размера (n, 1) с выходными активациями нейрона\n",
    "        (элементы вектора - float)\n",
    "        \"\"\"\n",
    "        return self.activation(self.summatory(input_matrix))\n",
    "        \n",
    "    def SGD(self, X, y, batch_size, learning_rate=0.1, eps=1e-6, max_steps=200):\n",
    "        \"\"\"\n",
    "        Внешний цикл алгоритма градиентного спуска.\n",
    "        X - матрица входных активаций (n, m)\n",
    "        y - вектор правильных ответов (n, 1)\n",
    "        \n",
    "        learning_rate - константа скорости обучения\n",
    "        batch_size - размер батча, на основании которого \n",
    "        рассчитывается градиент и совершается один шаг алгоритма\n",
    "        \n",
    "        eps - критерий остановки номер один: если разница между значением целевой функции \n",
    "        до и после обновления весов меньше eps - алгоритм останавливается. \n",
    "        Вторым вариантом была бы проверка размера градиента, а не изменение функции,\n",
    "        что будет работать лучше - неочевидно. В заданиях используйте первый подход.\n",
    "        \n",
    "        max_steps - критерий остановки номер два: если количество обновлений весов \n",
    "        достигло max_steps, то алгоритм останавливается\n",
    "        \n",
    "        Метод возвращает 1, если отработал первый критерий остановки (спуск сошёлся) \n",
    "        и 0, если второй (спуск не достиг минимума за отведённое время).\n",
    "        \"\"\"\n",
    "        n = y.size\n",
    "        all_indexes = np.arange(n)\n",
    "\n",
    "        for _ in range(max_steps):\n",
    "            random_indexes = np.random.choice(all_indexes, batch_size, replace=False)\n",
    "            if self.update_mini_batch(X[random_indexes, :], \n",
    "                                             y[random_indexes, :], learning_rate, eps):\n",
    "                return 1\n",
    "            \n",
    "            \n",
    "        return 0\n",
    "\n",
    "    \n",
    "    def update_mini_batch(self, X, y, learning_rate, eps):\n",
    "        \"\"\"\n",
    "        X - матрица размера (batch_size, m)\n",
    "        y - вектор правильных ответов размера (batch_size, 1)\n",
    "        learning_rate - константа скорости обучения\n",
    "        eps - критерий остановки номер один: если разница между значением целевой функции \n",
    "        до и после обновления весов меньше eps - алгоритм останавливается. \n",
    "        \n",
    "        Рассчитывает градиент (не забывайте использовать подготовленные заранее внешние функции) \n",
    "        и обновляет веса нейрона. Если ошибка изменилась меньше, чем на eps - возвращаем 1, \n",
    "        иначе возвращаем 0.\n",
    "        \"\"\"\n",
    "        # before start activate cell below\n",
    "        J = J_quadratic(self, X, y)\n",
    "        \n",
    "        grad_J = compute_grad_analytically(self, X, y)\n",
    "        \n",
    "        self.w -= learning_rate * grad_J\n",
    "        \n",
    "        J_new = J_quadratic(self, X, y)\n",
    "        \n",
    "        return int(abs(J - J_new) < eps)\n",
    "\n",
    "        \n",
    "        \n",
    "        \n",
    "        \n",
    "        "
   ]
  },
  {
   "cell_type": "code",
   "execution_count": 79,
   "metadata": {},
   "outputs": [
    {
     "name": "stdout",
     "output_type": "stream",
     "text": [
      "[[-0.22264542]\n",
      " [-0.45730194]\n",
      " [ 0.65747502]\n",
      " [-0.28649335]\n",
      " [-0.43813098]]\n",
      "[[-0.22368982]\n",
      " [-0.45599204]\n",
      " [ 0.65727411]\n",
      " [-0.28380677]\n",
      " [-0.43011026]]\n"
     ]
    }
   ],
   "source": [
    "np.random.seed(42)\n",
    "n = 10\n",
    "m = 5\n",
    "\n",
    "X = 20 * np.random.sample((n, m)) - 10\n",
    "y = (np.random.random(n) < 0.5).astype(int)[:, np.newaxis]\n",
    "w = 2 * np.random.random((m, 1)) - 1\n",
    "\n",
    "neuron = Neuron(w)\n",
    "neuron.update_mini_batch(X, y, 0.1, 1e-5)\n",
    "print(neuron.w)"
   ]
  },
  {
   "cell_type": "markdown",
   "metadata": {},
   "source": [
    "Зюк добавил, что на практике стохастический градиентный спуск обычно ограничивается не по количеству шагов алгоритма, а по количеству эпох обучения. Мы с ужасом переглянулись. Выходит, что Зюк просто не понимает, что земляне редко живут дольше ста лет... \"Зюк, - грустно сказали мы, - скорее всего, нам не удастся дождаться окончания работы алгоритма, люди столько не живут\". Зюк сперва удивился, потом рассмеялся и объяснил: эпохой обучения называют предъявление всех примеров по одному разу. Обычно батчи формируют так: входные данные перемешиваются, после этого разбиваются на кусочки по batch_size штук в каждом. После того как все примеры хотя бы раз побывали в батче, данные перемешиваются снова. Мы облегчённо вздохнули. Сейчас нам интересно понаблюдать за отдельными изменениями весов, поэтому мы ограничиваем алгоритм не эпохами, а количеством обновлений весов.\n",
    "\n",
    "Далее он показал нам код для расчета целевой функции и её градиента. Приятно было осознавать, что целевую функцию можно будет очень легко заменить, если нам захочется."
   ]
  },
  {
   "cell_type": "code",
   "execution_count": 136,
   "metadata": {},
   "outputs": [],
   "source": [
    "def J_quadratic(neuron, X, y):\n",
    "    \"\"\"\n",
    "    Оценивает значение квадратичной целевой функции.\n",
    "    Всё как в лекции, никаких хитростей.\n",
    "\n",
    "    neuron - нейрон, у которого есть метод vectorized_forward_pass, предсказывающий значения на выборке X\n",
    "    X - матрица входных активаций (n, m)\n",
    "    y - вектор правильных ответов (n, 1)\n",
    "        \n",
    "    Возвращает значение J (число)\n",
    "    \"\"\"\n",
    "    \n",
    "    assert y.shape[1] == 1, 'Incorrect y shape'\n",
    "    \n",
    "    return 0.5 * np.mean((neuron.vectorized_forward_pass(X) - y) ** 2)\n",
    "\n",
    "def J_quadratic_derivative(y, y_hat):\n",
    "    \"\"\"\n",
    "    Вычисляет вектор частных производных целевой функции по каждому из предсказаний.\n",
    "    y_hat - вертикальный вектор предсказаний,\n",
    "    y - вертикальный вектор правильных ответов,\n",
    "    \n",
    "    В данном случае функция смехотворно простая, но если мы захотим поэкспериментировать \n",
    "    с целевыми функциями - полезно вынести эти вычисления в отдельный этап.\n",
    "    \n",
    "    Возвращает вектор значений производной целевой функции для каждого примера отдельно.\n",
    "    \"\"\"\n",
    "    \n",
    "    assert y_hat.shape == y.shape and y_hat.shape[1] == 1, 'Incorrect shapes'\n",
    "    \n",
    "    return (y_hat - y) / len(y)\n",
    "    \n",
    "def compute_grad_analytically(neuron, X, y, J_prime=J_quadratic_derivative):\n",
    "    \"\"\"\n",
    "    Аналитическая производная целевой функции\n",
    "    neuron - объект класса Neuron\n",
    "    X - вертикальная матрица входов формы (n, m), на которой считается сумма квадратов отклонений\n",
    "    y - правильные ответы для примеров из матрицы X\n",
    "    J_prime - функция, считающая производные целевой функции по ответам\n",
    "    \n",
    "    Возвращает вектор размера (m, 1)\n",
    "    \"\"\"\n",
    "    \n",
    "    # Вычисляем активации\n",
    "    # z - вектор результатов сумматорной функции нейрона на разных примерах\n",
    "    \n",
    "    z = neuron.summatory(X)\n",
    "    y_hat = neuron.activation(z)\n",
    "\n",
    "    # Вычисляем нужные нам частные производные\n",
    "    dy_dyhat = J_prime(y, y_hat)\n",
    "    dyhat_dz = neuron.activation_function_derivative(z)\n",
    "    \n",
    "    # осознайте эту строчку:\n",
    "    dz_dw = X\n",
    "\n",
    "    # а главное, эту:\n",
    "    grad = ((dy_dyhat * dyhat_dz).T).dot(dz_dw)\n",
    "    \n",
    "    # можно было написать в два этапа. Осознайте, почему получается одно и то же\n",
    "    # grad_matrix = dy_dyhat * dyhat_dz * dz_dw\n",
    "    # grad = np.sum(, axis=0)\n",
    "    \n",
    "    # Сделаем из горизонтального вектора вертикальный\n",
    "    grad = grad.T\n",
    "    \n",
    "    return grad"
   ]
  },
  {
   "cell_type": "markdown",
   "metadata": {},
   "source": [
    "Однако нам в голову пришла тревожная мысль.. А вдруг при расчёте градиента допущена ошибка?  \n",
    "\n",
    "Как мы говорили в лекциях, неплохо бы проверить, правильно ли мы считаем градиенты, до того, как куда-то по этим градиентам спускаться. Зюк, например, долго пытался понять, как нам удалось сделать тот градиентный спуск, что мы показывали вам в лекции под саундтрек из \"Секретных материалов\". А мы всего-то забыли одну матрицу обратить, когда производную считали.\n",
    "\n",
    "Сейчас мы проверим, правильно ли считаются производные целевой функции: мы реализуем подсчёт частных производных по определению, как $$\\frac{\\partial f}{\\partial x_i} = \\frac{f\\left(x_1,\\ldots,x_{i-1}, x_i + \\Delta x, x_{i+1}, \\ldots, x_d\\right) - f\\left(x_1,\\ldots, x_d\\right)}{\\Delta x}.$$ Это не определение, в определении был бы $\\lim _{\\Delta x\\to 0}$! Но если мы возьмём достаточно малое $\\Delta x$, то приближение будет неплохим.\n",
    "\n",
    "Иными словами, мы посчитаем целевую функцию, чуть-чуть поменяем какой-нибудь вес, после этого посчитаем целевую функцию еще раз, дальше применяем определение, то есть разделим разницу в целевой функции на изменение веса.\n",
    "\n",
    "После этого можно будет сравнить результаты, полученные с помощью аналитического и численного метода: они не должны сильно отличаться.\n",
    "\n",
    "Вы уже должны догадываться, почему мы не можем всегда обходиться только лишь численным нахождением производной, но пример, непосредственно это иллюстрирующий, появится на следующей неделе."
   ]
  },
  {
   "cell_type": "code",
   "execution_count": 137,
   "metadata": {},
   "outputs": [],
   "source": [
    "def compute_grad_numerically(neuron, X, y, J=J_quadratic, eps=10e-2):\n",
    "    \"\"\"\n",
    "    Численная производная целевой функции\n",
    "    neuron - объект класса Neuron\n",
    "    X - вертикальная матрица входов формы (n, m), на которой считается сумма квадратов отклонений\n",
    "    y - правильные ответы для тестовой выборки X\n",
    "    J - целевая функция, градиент которой мы хотим получить\n",
    "    eps - размер $\\delta w$ (малого изменения весов)\n",
    "    \"\"\"\n",
    "\n",
    "    initial_cost = J(neuron, X, y)\n",
    "    w_0 = neuron.w\n",
    "    num_grad = np.zeros(w_0.shape)\n",
    "    \n",
    "    for i in range(len(w_0)):\n",
    "        \n",
    "        old_wi = neuron.w[i].copy()\n",
    "        # Меняем вес\n",
    "        neuron.w[i] += eps\n",
    "        \n",
    "        # Считаем новое значение целевой функции и вычисляем приближенное значение градиента\n",
    "        num_grad[i] = (J(neuron, X, y) - initial_cost)/eps\n",
    "        \n",
    "        # Возвращаем вес обратно. Лучше так, чем -= eps, чтобы не накапливать ошибки округления\n",
    "        neuron.w[i] = old_wi\n",
    "            \n",
    "    # проверим, что не испортили нейрону веса своими манипуляциями\n",
    "    assert np.allclose(neuron.w, w_0), \"МЫ ИСПОРТИЛИ НЕЙРОНУ ВЕСА\"\n",
    "    return num_grad"
   ]
  },
  {
   "cell_type": "markdown",
   "metadata": {},
   "source": [
    "Давайте посмотрим, что у нас получилось:"
   ]
  },
  {
   "cell_type": "code",
   "execution_count": 138,
   "metadata": {},
   "outputs": [
    {
     "name": "stdout",
     "output_type": "stream",
     "text": [
      "Численный градиент: \n",
      " [[0.02738885]\n",
      " [0.00321623]\n",
      " [0.02647175]]\n",
      "Аналитический градиент: \n",
      " [[0.02655893]\n",
      " [0.00239523]\n",
      " [0.02682055]]\n"
     ]
    }
   ],
   "source": [
    "# Подготовим данные\n",
    "\n",
    "X = data[:, :-1]\n",
    "y = data[:, -1]\n",
    "\n",
    "X = np.hstack((np.ones((len(y), 1)), X))\n",
    "y = y.reshape((len(y), 1)) # Обратите внимание на эту очень противную и важную строчку\n",
    "\n",
    "\n",
    "# Создадим нейрон\n",
    "\n",
    "w = np.random.random((X.shape[1], 1))\n",
    "neuron = Neuron(w, activation_function=sigmoid, activation_function_derivative=sigmoid_prime)\n",
    "\n",
    "# Посчитаем пример\n",
    "num_grad = compute_grad_numerically(neuron, X, y, J=J_quadratic)\n",
    "an_grad = compute_grad_analytically(neuron, X, y, J_prime=J_quadratic_derivative)\n",
    "\n",
    "print(\"Численный градиент: \\n\", num_grad)\n",
    "print(\"Аналитический градиент: \\n\", an_grad)"
   ]
  },
  {
   "cell_type": "markdown",
   "metadata": {},
   "source": [
    "\"Вроде бы похоже\", но это не очень удовлетворительный ответ. Давайте посмотрим, как меняется наше приближение в зависимости от $\\varepsilon$. Посчитаем для разных $\\varepsilon$ модуль разности этих двух градиентов."
   ]
  },
  {
   "cell_type": "code",
   "execution_count": 139,
   "metadata": {},
   "outputs": [
    {
     "data": {
      "application/vnd.jupyter.widget-view+json": {
       "model_id": "54ba9af6552b40ec9a2e27efab27f350",
       "version_major": 2,
       "version_minor": 0
      },
      "text/plain": [
       "interactive(children=(RadioButtons(description='eps', options=('3', '1', '0.1', '0.001', '0.0001'), value='3')…"
      ]
     },
     "metadata": {},
     "output_type": "display_data"
    }
   ],
   "source": [
    "def print_grad_diff(eps):\n",
    "    num_grad = compute_grad_numerically(neuron, X, y, J=J_quadratic, eps=float(eps))\n",
    "    an_grad = compute_grad_analytically(neuron, X, y, J_prime=J_quadratic_derivative)\n",
    "    print(np.linalg.norm(num_grad-an_grad))\n",
    "    \n",
    "interact(print_grad_diff, \n",
    "            eps=RadioButtons(options=[\"3\", \"1\", \"0.1\", \"0.001\", \"0.0001\"]), separator=\" \");"
   ]
  },
  {
   "cell_type": "markdown",
   "metadata": {},
   "source": [
    "Неплохо, но можно лучше, причем с минимумом усилий.\n",
    "Давайте вместо того, чтобы считать $\\frac{f(x) - f(x + \\Delta x)}{\\Delta x}$, посмотрим на $\\frac{f(x  + \\Delta x) - f(x - \\Delta x)}{2 \\Delta x}$, то есть шагнём в обе стороны. Говорят, что на практике этот метод работает лучше.\n",
    "\n",
    "Реализуйте функцию compute_grad_numerically_2, чтобы проверить, слухи это или нет."
   ]
  },
  {
   "cell_type": "code",
   "execution_count": 140,
   "metadata": {},
   "outputs": [],
   "source": [
    "def compute_grad_numerically_2(neuron, X, y, J=J_quadratic, eps=10e-2):\n",
    "    \"\"\"\n",
    "    Численная производная целевой функции.\n",
    "    neuron - объект класса Neuron с вертикальным вектором весов w,\n",
    "    X - вертикальная матрица входов формы (n, m), на которой считается сумма квадратов отклонений,\n",
    "    y - правильные ответы для тестовой выборки X,\n",
    "    J - целевая функция, градиент которой мы хотим получить,\n",
    "    eps - размер $\\delta w$ (малого изменения весов).\n",
    "    \"\"\"\n",
    "    \n",
    "    grad_right = compute_grad_numerically(neuron, X, y, J=J, eps=eps)\n",
    "    grad_left = compute_grad_numerically(neuron, X, y, J=J, eps=-eps)\n",
    "    \n",
    "    return (grad_right + grad_left) / 2\n",
    "    "
   ]
  },
  {
   "cell_type": "markdown",
   "metadata": {},
   "source": [
    "Давайте посмотрим, к какому результату привели ваши эксперименты:"
   ]
  },
  {
   "cell_type": "code",
   "execution_count": 141,
   "metadata": {},
   "outputs": [
    {
     "data": {
      "application/vnd.jupyter.widget-view+json": {
       "model_id": "0f697c000d4546028ee5bdd85b49a00b",
       "version_major": 2,
       "version_minor": 0
      },
      "text/plain": [
       "interactive(children=(RadioButtons(description='eps', options=('3', '1', '0.1', '0.001', '0.0001'), value='3')…"
      ]
     },
     "metadata": {},
     "output_type": "display_data"
    }
   ],
   "source": [
    "def print_grad_diff_2(eps):\n",
    "    num_grad = compute_grad_numerically_2(neuron, X, y, J=J_quadratic, eps=float(eps))\n",
    "    an_grad = compute_grad_analytically(neuron, X, y, J_prime=J_quadratic_derivative)\n",
    "    print(np.linalg.norm(num_grad-an_grad))\n",
    "    \n",
    "interact(print_grad_diff_2, \n",
    "            eps=RadioButtons(options=[\"3\", \"1\", \"0.1\", \"0.001\", \"0.0001\"]), separator=\" \");"
   ]
  },
  {
   "cell_type": "markdown",
   "metadata": {},
   "source": [
    "Перед нами тот редкий случай, когда фраза **\"на порядок лучше\"** - очевидное преуменьшение!"
   ]
  },
  {
   "cell_type": "markdown",
   "metadata": {},
   "source": [
    "## Визуализация"
   ]
  },
  {
   "cell_type": "markdown",
   "metadata": {},
   "source": [
    "Мы сидели, уставшие, но довольные проделанной работой, как вдруг Зюк оживлённо воскликнул:\n",
    "\n",
    "-- У нас ведь всего два входа! \n",
    "\n",
    "-- И что? - удивлённо спросили мы. \n",
    "\n",
    "-- А то, что если мы зафиксируем значение смещения, то можем полноценно визуализировать целевую функцию. Неужели вам не хочется посмотреть, как она выглядит в этой задачке? А еще.. А еще давайте добавим возможность перемешивать и сдвигать данные! Как вам такая идея?\n",
    "\n",
    "Не дождавшись ответа, Зюк начал программировать. Он выглядел очень возбуждённым."
   ]
  },
  {
   "cell_type": "code",
   "execution_count": 142,
   "metadata": {},
   "outputs": [],
   "source": [
    "def J_by_weights(weights, X, y, bias):\n",
    "    \"\"\"\n",
    "    Посчитать значение целевой функции для нейрона с заданными весами.\n",
    "    Только для визуализации\n",
    "    \"\"\"\n",
    "    new_w = np.hstack((bias, weights)).reshape((3,1))\n",
    "    return J_quadratic(Neuron(new_w), X, y)"
   ]
  },
  {
   "cell_type": "code",
   "execution_count": 143,
   "metadata": {},
   "outputs": [
    {
     "data": {
      "application/vnd.jupyter.widget-view+json": {
       "model_id": "cb610740f6bc4dcaab6655f7c19455ff",
       "version_major": 2,
       "version_minor": 0
      },
      "text/plain": [
       "interactive(children=(FloatSlider(value=0.0, continuous_update=False, description='fixed_bias', max=40.0, min=…"
      ]
     },
     "metadata": {},
     "output_type": "display_data"
    }
   ],
   "source": [
    "%matplotlib inline\n",
    "\n",
    "max_b = 40\n",
    "min_b = -40\n",
    "max_w1 = 40\n",
    "min_w1 = -40\n",
    "max_w2 = 40\n",
    "min_w2 = -40\n",
    "\n",
    "g_bias = 0 # график номер 2 будет при первой генерации по умолчанию иметь то значение b, которое выставлено в первом\n",
    "X_corrupted = X.copy()\n",
    "y_corrupted = y.copy()\n",
    "\n",
    "@interact(fixed_bias=FloatSlider(min=min_b, max=max_b, continuous_update=False), \n",
    "          mixing=FloatSlider(min=0, max=1, continuous_update=False, value=0),\n",
    "          shifting=FloatSlider(min=0, max=1, continuous_update=False, value=0)\n",
    "            )\n",
    "def visualize_cost_function(fixed_bias, mixing, shifting):\n",
    "    \"\"\"\n",
    "    Визуализируем поверхность целевой функции на (опционально) подпорченных данных и сами данные.\n",
    "    Портим данные мы следующим образом: сдвигаем категории навстречу друг другу, на величину, равную shifting \n",
    "    Кроме того, меняем классы некоторых случайно выбранных примеров на противоположнее.\n",
    "    Доля таких примеров задаётся переменной mixing\n",
    "    \n",
    "    Нам нужно зафиксировать bias на определённом значении, чтобы мы могли что-нибудь визуализировать.\n",
    "    Можно посмотреть, как bias влияет на форму целевой функции\n",
    "    \"\"\"\n",
    "    xlim = (min_w1, max_w1)\n",
    "    ylim = (min_w2, max_w2)\n",
    "    xx = np.linspace(*xlim, num=101)\n",
    "    yy = np.linspace(*ylim, num=101)\n",
    "    xx, yy = np.meshgrid(xx, yy)\n",
    "    points = np.stack([xx, yy], axis=2)\n",
    "    \n",
    "    # не будем портить исходные данные, будем портить их копию\n",
    "    corrupted = data.copy()\n",
    "    \n",
    "    # инвертируем ответы для случайно выбранного поднабора данных\n",
    "    mixed_subset = np.random.choice(range(len(corrupted)), int(mixing * len(corrupted)), replace=False)\n",
    "    corrupted[mixed_subset, -1] = np.logical_not(corrupted[mixed_subset, -1])\n",
    "    \n",
    "    # сдвинем все груши (внизу справа) на shifting наверх и влево\n",
    "    pears = corrupted[:, 2] == 1\n",
    "    apples = np.logical_not(pears)\n",
    "    corrupted[pears, 0] -= shifting\n",
    "    corrupted[pears, 1] += shifting\n",
    "    \n",
    "    # вытащим наружу испорченные данные\n",
    "    global X_corrupted, y_corrupted\n",
    "    X_corrupted = np.hstack((np.ones((len(corrupted),1)), corrupted[:, :-1]))\n",
    "    y_corrupted = corrupted[:, -1].reshape((len(corrupted), 1))\n",
    "    \n",
    "    # посчитаем значения целевой функции на наших новых данных\n",
    "    calculate_weights = partial(J_by_weights, X=X_corrupted, y=y_corrupted, bias=fixed_bias)\n",
    "    J_values = np.apply_along_axis(calculate_weights, -1, points)\n",
    "    \n",
    "    fig = plt.figure(figsize=(16,5))\n",
    "    # сначала 3D-график целевой функции\n",
    "    ax_1 = fig.add_subplot(1, 2, 1, projection='3d')\n",
    "    surf = ax_1.plot_surface(xx, yy, J_values, alpha=0.3)\n",
    "    ax_1.set_xlabel(\"$w_1$\")\n",
    "    ax_1.set_ylabel(\"$w_2$\")\n",
    "    ax_1.set_zlabel(\"$J(w_1, w_2)$\")\n",
    "    ax_1.set_title(\"$J(w_1, w_2)$ for fixed bias = ${}$\".format(fixed_bias))\n",
    "    # потом плоский поточечный график повреждённых данных\n",
    "    ax_2 = fig.add_subplot(1, 2, 2)\n",
    "    plt.scatter(corrupted[apples][:, 0], corrupted[apples][:, 1], color = \"red\", alpha=0.7)\n",
    "    plt.scatter(corrupted[pears][:, 0], corrupted[pears][:, 1], color = \"green\", alpha=0.7)\n",
    "    ax_2.set_xlabel(\"yellowness\")\n",
    "    ax_2.set_ylabel(\"symmetry\")\n",
    "\n",
    "    plt.show()"
   ]
  },
  {
   "cell_type": "markdown",
   "metadata": {},
   "source": [
    "Мы с интересом рассматривали результат. По форме функции становилось понятно, что градиентный спуск будет обычно попадать в ловушку. На графике видна огромная яма, прижимающаяся своим дном к нулю. \n",
    "\n",
    "Это происходит от того, что данные линейно разделимы, и мы всегда можем увеличить хорошие веса, получив еще более хорошие (подумайте, почему это так).\n",
    "\n",
    "Еще страшнее выглядят плоские участки. Как вы думаете, застрянем мы не них или нет?"
   ]
  },
  {
   "cell_type": "markdown",
   "metadata": {},
   "source": [
    "Следующим графиком Зюк особенно нас порадовал. Можно было выбрать точку и bias, откуда мы хотим начать градиентный спуск, после чего его программа генерировала \"историю обучения\" (learning curve) - график значений целевой функции после очередного обновления весов. \n",
    "\n",
    "Смотря на поверхность целевой функции мы старались предсказать, к каким весам мы придём, если начнём спуск с той или иной точки. Оказалось что всё не так очевидно, как мы думали.\n",
    "\n",
    "На графике ниже видно, что при \"хорошем\" раскладе (мы попали в большую яму) значение целевой функции всё время уменьшалось (хоть и по чуть-чуть), пока мы не достигали порога по количеству итераций. При плохом мы могли просто застрять в локальном минимуме или выйти на плато. \n",
    "\n",
    "\\\\\\\\ Как можно бороться с подобными ловушками мы поговорим на третьей и четвёртой неделях.\n",
    "\n",
    "***Если в предыдущем задании вы \"подпортили\" данные - график будет строиться именно для подпорченных =)***"
   ]
  },
  {
   "cell_type": "code",
   "execution_count": 146,
   "metadata": {},
   "outputs": [
    {
     "data": {
      "application/vnd.jupyter.widget-view+json": {
       "model_id": "4f7d597a9d17448e886af1d2fcaf58f2",
       "version_major": 2,
       "version_minor": 0
      },
      "text/plain": [
       "interactive(children=(BoundedFloatText(value=0.0, description='Enter $b$:', max=40.0, min=-40.0), BoundedFloat…"
      ]
     },
     "metadata": {},
     "output_type": "display_data"
    }
   ],
   "source": [
    "@interact(b=BoundedFloatText(value=str(g_bias), min=min_b, max=max_b, description=\"Enter $b$:\"),\n",
    "          w1=BoundedFloatText(value=\"0\", min=min_w1, max=max_w1, description=\"Enter $w_1$:\"),\n",
    "          w2=BoundedFloatText(value=\"0\", min=min_w2, max=max_w2, description=\"Enter $w_2$:\"),\n",
    "          learning_rate=Dropdown(options=[\"0.01\", \"0.05\", \"0.1\", \"0.5\", \"1\", \"5\", \"10\"], \n",
    "                                value=\"0.01\", description=\"Learning rate: \")\n",
    "         )\n",
    "def learning_curve_for_starting_point(b, w1, w2, learning_rate=0.1):\n",
    "    w = np.array([b, w1, w2]).reshape(X_corrupted.shape[1], 1)\n",
    "    learning_rate=float(learning_rate)\n",
    "    neuron = Neuron(w, activation_function=sigmoid, activation_function_derivative=sigmoid_prime)\n",
    "\n",
    "    story = [J_quadratic(neuron, X_corrupted, y_corrupted)]\n",
    "    for _ in range(2000):\n",
    "        neuron.SGD(X_corrupted, y_corrupted, 2, learning_rate=learning_rate, max_steps=2)\n",
    "        story.append(J_quadratic(neuron, X_corrupted, y_corrupted))\n",
    "    plt.plot(story)\n",
    "    \n",
    "    plt.title(\"Learning curve.\\n Final $b={0:.3f}$, $w_1={1:.3f}, w_2={2:.3f}$\".format(*neuron.w.ravel()))\n",
    "    plt.ylabel(\"$J(w_1, w_2)$\")\n",
    "    plt.xlabel(\"Weight and bias update number\")\n",
    "    plt.show()"
   ]
  },
  {
   "cell_type": "markdown",
   "metadata": {},
   "source": [
    "Близился вечер, и мы решили, что на сегодня уже утолили жажду программирования и познания. \n",
    "Даже Зюк выглядел немного утомлённым, насколько можно было судить по его инопланетной мимике.\n",
    "Он пообещал, что в следующий раз мы сможем сделать настоящую нейросеть, и мы отправились спать,\n",
    "думая о предстоящей встрече.\n",
    "\n",
    "Однако, не все. Кто-то из наших так увлёкся, что уже сейчас, не дожидаясь следующей встречи, отправился заменять целевые и активационные функции нейронов, наблюдая, как это отразится на результатах.\n"
   ]
  },
  {
   "cell_type": "code",
   "execution_count": null,
   "metadata": {},
   "outputs": [],
   "source": []
  },
  {
   "cell_type": "code",
   "execution_count": null,
   "metadata": {},
   "outputs": [],
   "source": []
  },
  {
   "cell_type": "code",
   "execution_count": null,
   "metadata": {},
   "outputs": [],
   "source": []
  }
 ],
 "metadata": {
  "kernelspec": {
   "display_name": "Python 3 (ipykernel)",
   "language": "python",
   "name": "python3"
  },
  "language_info": {
   "codemirror_mode": {
    "name": "ipython",
    "version": 3
   },
   "file_extension": ".py",
   "mimetype": "text/x-python",
   "name": "python",
   "nbconvert_exporter": "python",
   "pygments_lexer": "ipython3",
   "version": "3.9.6"
  }
 },
 "nbformat": 4,
 "nbformat_minor": 1
}
