{
 "cells": [
  {
   "cell_type": "markdown",
   "metadata": {},
   "source": [
    "## Введение\n",
    "\n",
    "Гуляя по парку, Зюк увидел ребят, играющих в футбол. Это странное, на первый взгляд, занятие, вызвало у него неподдельное любопытство. Мы предложили ему присоединиться, но Зюк смущённо отказался. Оказалось, что задача расчёта траектории полёта того или иного предмета считается у нейрян достаточно сложной и у Зюка до сих пор не было времени, чтобы реализовать нейросеть, которая могла бы эту задачу решить.\n",
    "\n",
    "## Нейросеть\n",
    "\n",
    "Мы с радостью вызвались помочь Зюку написать нейросеть для такого случая.\n",
    "\n",
    "Вот что у нас получилось. Кое-где мы запутались и не смогли написать нужный кусок кода. Помогите нам, пожалуйста!\n",
    "\n",
    "// внимательно изучите комментарии к каждой функции, <br>\n",
    "// осознайте код настолько, насколько сможете. Заполните пропущенные кусочки. <br>\n",
    "// за основу класса Network взят пример с сайта neuralnetworksanddeeplearning.com"
   ]
  },
  {
   "cell_type": "code",
   "execution_count": 45,
   "metadata": {
    "collapsed": true
   },
   "outputs": [],
   "source": [
    "import numpy as np\n",
    "import random\n",
    "\n",
    "def sigmoid(z):\n",
    "    \"\"\"The sigmoid function.\n",
    "    Сигмоида\n",
    "    \"\"\"\n",
    "    return 1.0/(1.0+np.exp(-z))\n",
    "\n",
    "def sigmoid_prime(z):\n",
    "    \"\"\"Derivative of the sigmoid function.\n",
    "    Производная сигмоиды по e (шутка). По x\n",
    "    \"\"\"\n",
    "    return sigmoid(z)*(1-sigmoid(z))\n",
    "\n",
    "def cost_function(network, test_data, onehot=True):\n",
    "    c = 0\n",
    "    for example, y in test_data:\n",
    "        if not onehot:\n",
    "            y = np.eye(3, 1, k=-int(y))\n",
    "        yhat = network.feedforward(example)\n",
    "        c += np.sum((y - yhat)**2)\n",
    "    return c / len(test_data)"
   ]
  },
  {
   "cell_type": "code",
   "execution_count": 28,
   "metadata": {
    "collapsed": true
   },
   "outputs": [],
   "source": [
    "class Network:\n",
    "\n",
    "    def __init__(self, sizes, output=True):\n",
    "        \"\"\"\n",
    "        Список ``sizes`` содержит количество нейронов в соответствующих слоях\n",
    "        нейронной сети. К примеру, если бы этот лист выглядел как [2, 3, 1],\n",
    "        то мы бы получили трёхслойную нейросеть, с двумя нейронами в первом\n",
    "        (входном), тремя нейронами во втором (промежуточном) и одним нейроном\n",
    "        в третьем (выходном, внешнем) слое. Смещения и веса для нейронных сетей\n",
    "        инициализируются случайными значениями, подчиняющимися стандартному нормальному\n",
    "        распределению. Обратите внимание, что первый слой подразумевается слоем, \n",
    "        принимающим входные данные, поэтому мы не будем добавлять к нему смещение \n",
    "        (делать это не принято, поскольку смещения используются только при \n",
    "        вычислении выходных значений нейронов последующих слоёв)\n",
    "        \"\"\"\n",
    "\n",
    "        self.num_layers = len(sizes)\n",
    "        self.sizes = sizes\n",
    "        self.biases = [np.random.randn(y, 1) for y in sizes[1:]]\n",
    "        self.weights = [np.random.randn(y, x)\n",
    "                        for x, y in zip(sizes[:-1], sizes[1:])]\n",
    "        self.output = output\n",
    "\n",
    "    def feedforward(self, a):\n",
    "        \"\"\"\n",
    "        Вычислить и вернуть выходную активацию нейронной сети\n",
    "        при получении ``a`` на входе (бывшее forward_pass).\n",
    "        \"\"\"\n",
    "        for b, w in zip(self.biases, self.weights):\n",
    "            a = sigmoid(np.dot(w, a)+b)\n",
    "        return a\n",
    "\n",
    "    def SGD(self, training_data, epochs, mini_batch_size, eta,\n",
    "            test_data=None):\n",
    "        \"\"\"\n",
    "        Обучить нейронную сеть, используя алгоритм стохастического\n",
    "        (mini-batch) градиентного спуска. \n",
    "        ``training_data`` - лист кортежей вида ``(x, y)``, где \n",
    "        x - вход обучающего примера, y - желаемый выход (в формате one-hot). \n",
    "        Роль остальных обязательных параметров должна быть понятна из их названия.\n",
    "        Если предоставлен опциональный аргумент ``test_data``, \n",
    "        то после каждой эпохи обучения сеть будет протестирована на этих данных \n",
    "        и промежуточный результат обучения будет выведен в консоль. \n",
    "        ``test_data`` -- это список кортежей из входных данных \n",
    "        и номеров правильных классов примеров (т.е. argmax(y),\n",
    "        если y -- набор ответов в той же форме, что и в тренировочных данных).\n",
    "        Тестирование полезно для мониторинга процесса обучения,\n",
    "        но может существенно замедлить работу программы.\n",
    "        \"\"\"\n",
    "\n",
    "        if test_data is not None: n_test = len(test_data)\n",
    "        n = len(training_data)\n",
    "        success_tests = 0\n",
    "        for j in range(epochs):\n",
    "            random.shuffle(training_data)\n",
    "            mini_batches = [\n",
    "                training_data[k:k+mini_batch_size]\n",
    "                for k in range(0, n, mini_batch_size)]\n",
    "            for mini_batch in mini_batches:\n",
    "                self.update_mini_batch(mini_batch, eta)\n",
    "            if test_data is not None and self.output:\n",
    "                success_tests = self.evaluate(test_data)\n",
    "                print(\"Эпоха {0}: {1} / {2}\".format(\n",
    "                    j, success_tests, n_test))\n",
    "            elif self.output:\n",
    "                print(\"Эпоха {0} завершена\".format(j))\n",
    "        if test_data is not None:\n",
    "            return success_tests / n_test\n",
    "\n",
    "    def update_mini_batch(self, mini_batch, eta):\n",
    "        \"\"\"\n",
    "        Обновить веса и смещения нейронной сети, сделав шаг градиентного\n",
    "        спуска на основе алгоритма обратного распространения ошибки, примененного\n",
    "        к одному mini batch.\n",
    "        ``mini_batch`` - список кортежей вида ``(x, y)``,\n",
    "        ``eta`` - величина шага (learning rate).\n",
    "        \"\"\"\n",
    "        \n",
    "        nabla_b = [np.zeros(b.shape) for b in self.biases]\n",
    "        nabla_w = [np.zeros(w.shape) for w in self.weights]\n",
    "        for x, y in mini_batch:\n",
    "            delta_nabla_b, delta_nabla_w = self.backprop(x, y)\n",
    "            nabla_b = [nb+dnb for nb, dnb in zip(nabla_b, delta_nabla_b)]\n",
    "            nabla_w = [nw+dnw for nw, dnw in zip(nabla_w, delta_nabla_w)]\n",
    "            \n",
    "        eps = eta / len(mini_batch)\n",
    "        self.weights = [w - eps * nw for w, nw in zip(self.weights, nabla_w)]\n",
    "        self.biases  = [b - eps * nb for b, nb in zip(self.biases,  nabla_b)]\n",
    "\n",
    "    def backprop(self, x, y):\n",
    "        \"\"\"\n",
    "        Возвращает кортеж ``(nabla_b, nabla_w)`` -- градиент целевой функции по всем параметрам сети.\n",
    "        ``nabla_b`` и ``nabla_w`` -- послойные списки массивов ndarray,\n",
    "        такие же, как self.biases и self.weights соответственно.\n",
    "        \"\"\"\n",
    "        # Эту функцию необходимо реализовать\n",
    "        nabla_b = [np.zeros(b.shape) for b in self.biases]\n",
    "        nabla_w = [np.zeros(w.shape) for w in self.weights]\n",
    "\n",
    "        # прямое распространение (forward pass)\n",
    "        a =[0] * (self.num_layers + 1) # list for all activations\n",
    "        z =[0] * self.num_layers # list for all z values\n",
    "        a[0] = x\n",
    "        activation = x\n",
    "        for i, (b, w) in enumerate(zip(self.biases, self.weights)):\n",
    "            z[i] = np.dot(w, activation)+b\n",
    "            a[i + 1] = sigmoid(z[i])\n",
    "            activation = a[i + 1]\n",
    "\n",
    "            \n",
    "\n",
    "        # обратное распространение (backward pass)\n",
    "        delta = sigmoid_prime(z[-1]) * self.cost_derivative(a[-1], y) # ошибка выходного слоя\n",
    "        nabla_b[-1] = delta # производная J по смещениям выходного слоя\n",
    "        nabla_w[-1] = np.dot(delta, a[-2].transpose()) # производная J по весам выходного слоя\n",
    "\n",
    "        # Обратите внимание, что переменная l в цикле ниже используется\n",
    "        # немного иначе, чем в лекциях.  Здесь l = 1 означает последний слой, \n",
    "        # l = 2 - предпоследний и так далее.  \n",
    "        # Мы перенумеровали схему, чтобы с удобством для себя \n",
    "        # использовать тот факт, что в Python к переменной типа list \n",
    "        # можно обращаться по негативному индексу.\n",
    "        for l in range(2, self.num_layers):\n",
    "            # дополнительные вычисления, чтобы легче записывалось\n",
    "            #\n",
    "            delta = np.dot(self.weights[-l+1].transpose(), delta) * sigmoid_prime(z[-l]) # ошибка на слое L-l\n",
    "            nabla_b[-l] = delta  # производная J по смещениям L-l-го слоя\n",
    "            nabla_w[-l] = np.dot(delta, a[-l-1].transpose())   # производная J по весам L-l-го слоя\n",
    "            \n",
    "        return nabla_b, nabla_w\n",
    "    \n",
    "    def backprop(self, x, y):\n",
    "        \"\"\"Return a tuple ``(nabla_b, nabla_w)`` representing the\n",
    "        gradient for the cost function C_x.  ``nabla_b`` and\n",
    "        ``nabla_w`` are layer-by-layer lists of numpy arrays, similar\n",
    "        to ``self.biases`` and ``self.weights``.\"\"\"\n",
    "        nabla_b = [np.zeros(b.shape) for b in self.biases]\n",
    "        nabla_w = [np.zeros(w.shape) for w in self.weights]\n",
    "        # feedforward\n",
    "        activation = x\n",
    "        activations = [x] # list to store all the activations, layer by layer\n",
    "        zs = [] # list to store all the z vectors, layer by layer\n",
    "        for b, w in zip(self.biases, self.weights):\n",
    "            z = np.dot(w, activation)+b\n",
    "            zs.append(z)\n",
    "            activation = sigmoid(z)\n",
    "            activations.append(activation)\n",
    "            # backward pass\n",
    "        delta = self.cost_derivative(activations[-1], y) * \\\n",
    "        sigmoid_prime(zs[-1])\n",
    "        nabla_b[-1] = delta\n",
    "        nabla_w[-1] = np.dot(delta, activations[-2].transpose())\n",
    "            # Note that the variable l in the loop below is used a little\n",
    "            # differently to the notation in Chapter 2 of the book.  Here,\n",
    "            # l = 1 means the last layer of neurons, l = 2 is the\n",
    "            # second-last layer, and so on.  It's a renumbering of the\n",
    "            # scheme in the book, used here to take advantage of the fact\n",
    "            # that Python can use negative indices in lists.\n",
    "        for l in range(2, self.num_layers):\n",
    "            z = zs[-l]\n",
    "            sp = sigmoid_prime(z)\n",
    "            delta = np.dot(self.weights[-l+1].transpose(), delta) * sp\n",
    "            nabla_b[-l] = delta\n",
    "            nabla_w[-l] = np.dot(delta, activations[-l-1].transpose())\n",
    "        return (nabla_b, nabla_w)\n",
    "\n",
    "    def evaluate(self, test_data):\n",
    "        \"\"\"\n",
    "        Вернуть количество тестовых примеров, для которых нейронная сеть\n",
    "        возвращает правильный ответ. Обратите внимание: подразумевается,\n",
    "        что выход нейронной сети - это индекс, указывающий, какой из нейронов\n",
    "        последнего слоя имеет наибольшую активацию.\n",
    "        \"\"\"\n",
    "        test_results = [(np.argmax(self.feedforward(x)), y)\n",
    "                        for (x, y) in test_data]\n",
    "        return sum(int(x == y) for (x, y) in test_results)\n",
    "\n",
    "    def cost_derivative(self, output_activations, y):\n",
    "        \"\"\"\n",
    "        Возвращает вектор частных производных (\\partial C_x) / (\\partial a) \n",
    "        целевой функции по активациям выходного слоя.\n",
    "        \"\"\"\n",
    "        return (output_activations-y)"
   ]
  },
  {
   "cell_type": "markdown",
   "metadata": {},
   "source": [
    "Так много кода!.. Чтобы быть уверенным, что он работает правильно, нам не обойтись без тестирования. Вообще-то чем меньше функция делает, тем проще её тестировать: мы можем взять какие-то аргументы, ожидаемый результат для этих аргументов и сравнить его с тем, который реально выдаст наша функция. Если реальность совпала с ожиданием, то всё в порядке — тест пройден!\n",
    "\n",
    "В качестве примера мы покажем довольно общий тест — тот случай, который указан в описании задания. Если вам понравится такой подход, вы можете развить идею на ваш вкус.\n",
    "\n",
    "Одним из самых распространённых средств тестирования является встроенная в Python система `doctest`. Тесты оформляются в очень наглядном виде внутри первого комментария к функции (в `docstring`). Символом `>>>` начинаются строки, которые система выполнит. А следующие за ними строки без клювиков — это ожидаемые результаты выполнения. Это очень похоже на снимок экрана при работе с интерпретатором, а разница в том, что система сама сравнивает ожидаемые и реальные результаты. Если они не совпадут, выведется сообщение об ошибке.\n",
    "\n",
    "Подробнее можно прочитать в [документации по doctest](https://docs.python.org/3.4/library/doctest.html)."
   ]
  },
  {
   "cell_type": "code",
   "execution_count": 29,
   "metadata": {
    "collapsed": true
   },
   "outputs": [],
   "source": [
    "import doctest"
   ]
  },
  {
   "cell_type": "code",
   "execution_count": 30,
   "metadata": {
    "collapsed": false
   },
   "outputs": [
    {
     "name": "stdout",
     "output_type": "stream",
     "text": [
      "Finding tests in NoName\n",
      "Trying:\n",
      "    nabla_b, nabla_w = sample_backprop1()\n",
      "Expecting nothing\n",
      "ok\n",
      "Trying:\n",
      "    print(nabla_b[0])\n",
      "Expecting:\n",
      "    [[ 0.00214254]\n",
      "     [-0.05287709]]\n",
      "ok\n",
      "Trying:\n",
      "    print(nabla_w[0])\n",
      "Expecting:\n",
      "    [[ 0.00214254  0.00428509  0.00642763]\n",
      "     [-0.05287709 -0.10575419 -0.15863128]]\n",
      "ok\n"
     ]
    }
   ],
   "source": [
    "# Описание теста. Само по себе оно ещё ничего не проверяет,\n",
    "# это просто функция, которую можно вызвать.\n",
    "def sample_backprop1():\n",
    "    \"\"\"\n",
    "    Пример тестового случая. Создает сеть, запускает функцию backprop и\n",
    "    проверяет возвращенные значения.\n",
    "    \n",
    "    >>> nabla_b, nabla_w = sample_backprop1()\n",
    "    >>> print(nabla_b[0])\n",
    "    [[ 0.00214254]\n",
    "     [-0.05287709]]\n",
    "    >>> print(nabla_w[0])\n",
    "    [[ 0.00214254  0.00428509  0.00642763]\n",
    "     [-0.05287709 -0.10575419 -0.15863128]]\n",
    "    \"\"\"\n",
    "    nn = Network([3,2])\n",
    "    nn.biases = [np.array([[-1], [-1]])]\n",
    "    nn.weights = [np.array([[-1, 1,-1], [ 1, -1, 1]])]\n",
    "    x = np.array([[1], [2], [3]])\n",
    "    y = np.array([[0], [1]])\n",
    "    \n",
    "    return nn.backprop(x, y)\n",
    "\n",
    "# Непосредственный запуск теста.\n",
    "# Указывается имя объекта (функции, класса и т. п.), из описания которой берутся тесты.\n",
    "# Обычно аргумент verbose=True не используют, и если всё хорошо,\n",
    "# то система просто ничего не выводит. Мы оставили его для наглядности.\n",
    "doctest.run_docstring_examples(sample_backprop1, globals(), verbose=True)"
   ]
  },
  {
   "cell_type": "markdown",
   "metadata": {},
   "source": [
    "Ура, товарищи! Теперь у нас есть класс для нейронной сети. Пора применить его к нашей задаче. В конце концов, мы ведь хотим поиграть с Зюком в футбол!\n",
    "\n",
    "## Учим Зюка играть в футбол\n",
    "\n",
    "В обучении мастерству игры мы решили начать с малого: будем учить Зюка пасоваться и делать навесы. Для этого нужно научиться решать такую задачу: зная начальное направление (угол от поверхности земли) и скорость мяча, определить, где этот мяч упадёт. Или иначе: попадёт ли мяч в мишень, находящуюся на земле, при заданных начальных условиях. Чтобы собрать тренировочные данные, мы поставили на земле мишень и пинали мячик в направлении этой мишени с разных расстояний, с разной силой и под разным углом. Зюк смотрел и запоминал. Он очень хотел научиться определять, попадём ли мы в мишень или нет.\n",
    "\n",
    "Зюк поделился с нами своими наблюдениями, давайте загрузим эти данные и обучим нейронную сеть!"
   ]
  },
  {
   "cell_type": "code",
   "execution_count": 32,
   "metadata": {
    "collapsed": true
   },
   "outputs": [
    {
     "data": {
      "text/plain": [
       "array([[  9.71677495,   1.4698157 ,   3.23248558,   0.        ],\n",
       "       [ 11.30650393,   0.81542168,  55.36712558,   2.        ],\n",
       "       [  9.5123388 ,   0.80953667,  24.1535617 ,   2.        ],\n",
       "       ...,\n",
       "       [ 41.41290471,   1.41846631,  64.52214789,   2.        ],\n",
       "       [ 46.59627779,   0.70537961, 224.63027661,   0.        ],\n",
       "       [ 39.91049114,   0.46275864, 189.26785296,   2.        ]])"
      ]
     },
     "execution_count": 32,
     "metadata": {},
     "output_type": "execute_result"
    }
   ],
   "source": [
    "data = np.loadtxt(\"data.csv\", delimiter=\",\")\n",
    "data"
   ]
  },
  {
   "cell_type": "markdown",
   "metadata": {},
   "source": [
    "В данных у нас скорость пинка, угол пинка (между направлением полёта мяча и землёй) и расстояние до мишени. Заметим сразу, что пинали мы от души: скорость броска от 0 и до 50. Угол, по вполне очевидным причинам, принимает значения из $\\left[0;\\frac{\\pi}{2}\\right]$. Разница в масштабах настолько существенна, что имеет смысл нормализовать наши данные, чтобы при обучении не отвлекаться на попытки скомпенсировать масштаб данных масштабом весов."
   ]
  },
  {
   "cell_type": "code",
   "execution_count": 34,
   "metadata": {
    "collapsed": false
   },
   "outputs": [],
   "source": [
    "means = data.mean(axis=0)\n",
    "means[-1] = 0  # правильные ответы мы нормализовывать не будем: это качественные переменные\n",
    "stds = data.std(axis=0)\n",
    "stds[-1] = 1\n",
    "data = (data - means) / stds"
   ]
  },
  {
   "cell_type": "markdown",
   "metadata": {},
   "source": [
    "Чтобы у нас была возможность следить за успешностью обучения, сразу отделим часть данных в тестовое множество. Мы решили, что в этот раз не будем устраивать кросс-валидацию, поскольку нам хочется поскорее поиграть в футбол. Конечно, если бы задача была чуть более ответственной, без кросс-валидации мы бы не обошлись."
   ]
  },
  {
   "cell_type": "code",
   "execution_count": 35,
   "metadata": {
    "collapsed": false
   },
   "outputs": [],
   "source": [
    "np.random.seed(42)\n",
    "test_index = np.random.choice([True, False], len(data), replace=True, p=[0.25, 0.75])\n",
    "test  = data[test_index]\n",
    "train = data[np.logical_not(test_index)]"
   ]
  },
  {
   "cell_type": "markdown",
   "metadata": {},
   "source": [
    "Приведём теперь данные в тот вид, в котором они понимаются нашей нейросетью. Для обучения нам нужно, чтобы ответ был в формате one-hot: вектор длины 3 (общее количество классов), состоящий из нулей и одной единицы на месте правильного класса наблюдения. Мы сделаем это с помощью `np.eye`: для единицы, стоящей на `i`-м месте, нужно создать вектор `np.eye(3, 1, k=-i)`. Соответственно, когда мы будем итерироваться по нашим входным данным, искомое `i` для примера - это последний элемент строки с этим примером, то есть `d[-1]`. Получается несколько неуклюже: `np.eye(3, 1, k=-int(d[-1]))`. Если вам пришла в голову идея получше - пишите, делайте пулл-реквесты, Зюк будет рад!\n",
    "\n",
    "Возможно, кого-то всё ещё пугает строчка `a[:, np.newaxis]`. Это то же самое, что `a.reshape(a.shape + (1,))` (только посимпатичнее) - добавление ещё одной оси в массив. Делает одномерный вектор вертикальным, помните [эту задачу](https://stepic.org/lesson/NumPy-основы-16462/step/7?unit=4283)?"
   ]
  },
  {
   "cell_type": "code",
   "execution_count": 36,
   "metadata": {
    "collapsed": false
   },
   "outputs": [],
   "source": [
    "# eye - чтобы создать вертикальный вектор, аналогичный тому, который будет выдавать нейросеть на выходе\n",
    "train = [(d[:3][:, np.newaxis], np.eye(3, 1, k=-int(d[-1]))) for d in train]  \n",
    "test =  [(d[:3][:, np.newaxis], d[-1]) for d in test]"
   ]
  },
  {
   "cell_type": "markdown",
   "metadata": {},
   "source": [
    "Это может выглядеть несколько странно, но так нам будет удобнее работать с сетью. Предлагаемый вариант не оптимален, но удобен в учебных целях.\n",
    "\n",
    "Теперь создадим сеть:"
   ]
  },
  {
   "cell_type": "code",
   "execution_count": 37,
   "metadata": {
    "collapsed": true
   },
   "outputs": [],
   "source": [
    "input_count  = 3  # 3 нейрона входного слоя\n",
    "hidden_count = 6  # 5 нейронов внутреннего слоя\n",
    "output_count = 3  # 3 нейрона выходного слоя, по индикатору для каждого из классов \"недолёт\", \"попал\" и \"перелёт\""
   ]
  },
  {
   "cell_type": "markdown",
   "metadata": {},
   "source": [
    "И тепеерь... Давайте её обучим! После каждой эпохи будем выводить достигнутую точность."
   ]
  },
  {
   "cell_type": "code",
   "execution_count": 38,
   "metadata": {
    "collapsed": false
   },
   "outputs": [
    {
     "name": "stdout",
     "output_type": "stream",
     "text": [
      "Эпоха 0: 74 / 130\n",
      "Эпоха 1: 83 / 130\n",
      "Эпоха 2: 91 / 130\n",
      "Эпоха 3: 92 / 130\n",
      "Эпоха 4: 95 / 130\n",
      "Эпоха 5: 90 / 130\n",
      "Эпоха 6: 93 / 130\n",
      "Эпоха 7: 95 / 130\n",
      "Эпоха 8: 95 / 130\n",
      "Эпоха 9: 97 / 130\n",
      "Эпоха 10: 98 / 130\n",
      "Эпоха 11: 97 / 130\n",
      "Эпоха 12: 100 / 130\n",
      "Эпоха 13: 100 / 130\n",
      "Эпоха 14: 103 / 130\n",
      "Эпоха 15: 103 / 130\n",
      "Эпоха 16: 103 / 130\n",
      "Эпоха 17: 103 / 130\n",
      "Эпоха 18: 103 / 130\n",
      "Эпоха 19: 103 / 130\n",
      "Эпоха 20: 103 / 130\n",
      "Эпоха 21: 103 / 130\n",
      "Эпоха 22: 103 / 130\n",
      "Эпоха 23: 101 / 130\n",
      "Эпоха 24: 103 / 130\n",
      "Эпоха 25: 103 / 130\n",
      "Эпоха 26: 103 / 130\n",
      "Эпоха 27: 103 / 130\n",
      "Эпоха 28: 104 / 130\n",
      "Эпоха 29: 103 / 130\n",
      "Эпоха 30: 104 / 130\n",
      "Эпоха 31: 104 / 130\n",
      "Эпоха 32: 104 / 130\n",
      "Эпоха 33: 103 / 130\n",
      "Эпоха 34: 103 / 130\n",
      "Эпоха 35: 105 / 130\n",
      "Эпоха 36: 104 / 130\n",
      "Эпоха 37: 103 / 130\n",
      "Эпоха 38: 104 / 130\n",
      "Эпоха 39: 104 / 130\n",
      "Эпоха 40: 103 / 130\n",
      "Эпоха 41: 105 / 130\n",
      "Эпоха 42: 103 / 130\n",
      "Эпоха 43: 104 / 130\n",
      "Эпоха 44: 105 / 130\n",
      "Эпоха 45: 106 / 130\n",
      "Эпоха 46: 103 / 130\n",
      "Эпоха 47: 106 / 130\n",
      "Эпоха 48: 112 / 130\n",
      "Эпоха 49: 103 / 130\n",
      "Эпоха 50: 105 / 130\n",
      "Эпоха 51: 103 / 130\n",
      "Эпоха 52: 105 / 130\n",
      "Эпоха 53: 104 / 130\n",
      "Эпоха 54: 103 / 130\n",
      "Эпоха 55: 105 / 130\n",
      "Эпоха 56: 106 / 130\n",
      "Эпоха 57: 105 / 130\n",
      "Эпоха 58: 107 / 130\n",
      "Эпоха 59: 103 / 130\n",
      "Эпоха 60: 106 / 130\n",
      "Эпоха 61: 105 / 130\n",
      "Эпоха 62: 105 / 130\n",
      "Эпоха 63: 111 / 130\n",
      "Эпоха 64: 104 / 130\n",
      "Эпоха 65: 113 / 130\n",
      "Эпоха 66: 111 / 130\n",
      "Эпоха 67: 114 / 130\n",
      "Эпоха 68: 109 / 130\n",
      "Эпоха 69: 109 / 130\n",
      "Эпоха 70: 113 / 130\n",
      "Эпоха 71: 111 / 130\n",
      "Эпоха 72: 110 / 130\n",
      "Эпоха 73: 110 / 130\n",
      "Эпоха 74: 112 / 130\n",
      "Эпоха 75: 110 / 130\n",
      "Эпоха 76: 111 / 130\n",
      "Эпоха 77: 112 / 130\n",
      "Эпоха 78: 110 / 130\n",
      "Эпоха 79: 113 / 130\n",
      "Эпоха 80: 112 / 130\n",
      "Эпоха 81: 113 / 130\n",
      "Эпоха 82: 110 / 130\n",
      "Эпоха 83: 113 / 130\n",
      "Эпоха 84: 115 / 130\n",
      "Эпоха 85: 113 / 130\n",
      "Эпоха 86: 111 / 130\n",
      "Эпоха 87: 110 / 130\n",
      "Эпоха 88: 112 / 130\n",
      "Эпоха 89: 113 / 130\n",
      "Эпоха 90: 113 / 130\n",
      "Эпоха 91: 113 / 130\n",
      "Эпоха 92: 113 / 130\n",
      "Эпоха 93: 112 / 130\n",
      "Эпоха 94: 113 / 130\n",
      "Эпоха 95: 113 / 130\n",
      "Эпоха 96: 111 / 130\n",
      "Эпоха 97: 113 / 130\n",
      "Эпоха 98: 113 / 130\n",
      "Эпоха 99: 112 / 130\n"
     ]
    },
    {
     "data": {
      "text/plain": [
       "0.8615384615384616"
      ]
     },
     "execution_count": 38,
     "metadata": {},
     "output_type": "execute_result"
    }
   ],
   "source": [
    "random.seed(1)\n",
    "np.random.seed(1)\n",
    "nn = Network([input_count, hidden_count, output_count])\n",
    "nn.SGD(training_data=train, epochs=100, mini_batch_size=5, eta=1, test_data=test)"
   ]
  },
  {
   "cell_type": "markdown",
   "metadata": {},
   "source": [
    "Итак, что-то мы построили, причём доля правильных ответов этого \"чего-то\" равна 0.86, то есть чему-то отличному от случайного угадывания сеть явно научилась! Можно ли как-то посмотреть, что за правило усвоила наша модель? Что за закономерность она вывела? Оказывается, что можно!"
   ]
  },
  {
   "cell_type": "markdown",
   "metadata": {},
   "source": [
    "Поскольку задача очень простая: предсказать, приземлится ли мячик в заданном отрезке, мы знаем, как выглядит правильное решение.\n",
    "\n",
    "Действительно, если мы кидаем мячик с высоты 0 с заданной скоростью $v$ под углом $\\alpha$, то он пролетит ровно $$s = \\frac{v^2}{g}\\cdot \\sin\\left(2\\alpha\\right).$$\n",
    "Соответственно, можно построить график зависимости $s$ от $v$ и $\\alpha$."
   ]
  },
  {
   "cell_type": "code",
   "execution_count": 39,
   "metadata": {
    "collapsed": false
   },
   "outputs": [
    {
     "name": "stderr",
     "output_type": "stream",
     "text": [
      "/Users/llle0n/opt/anaconda3/lib/python3.9/site-packages/scipy/__init__.py:146: UserWarning: A NumPy version >=1.16.5 and <1.23.0 is required for this version of SciPy (detected version 1.26.2\n",
      "  warnings.warn(f\"A NumPy version >={np_minversion} and <{np_maxversion}\"\n"
     ]
    },
    {
     "data": {
      "image/png": "[encoded data removed]",
      "text/plain": [
       "<Figure size 432x288 with 1 Axes>"
      ]
     },
     "metadata": {
      "needs_background": "light"
     },
     "output_type": "display_data"
    }
   ],
   "source": [
    "%matplotlib inline\n",
    "import matplotlib.pyplot as plt\n",
    "from mpl_toolkits.mplot3d import Axes3D\n",
    "try:\n",
    "    from scipy.constants import g, pi\n",
    "except ImportError:\n",
    "    g = 9.80665\n",
    "    from math import pi\n",
    "    \n",
    "xx = np.linspace(0.5, 50, 200)\n",
    "yy = np.linspace(1e-6, pi / 2, 200)\n",
    "xx, yy = np.meshgrid(xx, yy)\n",
    "points = np.stack([xx, yy], axis=2)\n",
    "def s(coords):\n",
    "    v, angle = coords\n",
    "    return v * v * np.sin(2 * angle) / g \n",
    "dist = np.apply_along_axis(s, -1, points)\n",
    "\n",
    "fig = plt.figure()\n",
    "ax = fig.add_subplot(1, 1, 1, projection='3d')\n",
    "ax.plot_surface(xx, yy, dist)\n",
    "ax.plot_surface(xx, yy, dist + 10, alpha=0.3)  # верхняя граница ответа \"попал\" в тренировочных данных\n",
    "ax.plot_surface(xx, yy, dist - 10, alpha=0.3)  # нижняя граница ответа \"попал\" в тренировочных данных\n",
    "plt.xlabel(r\"$v_x$\")\n",
    "plt.ylabel(r\"$v_y$\")\n",
    "xlim = plt.xlim()  # чтобы построить следующий график в том же масштабе\n",
    "ylim = plt.ylim()  # чтобы построить следующий график в том же масштабе\n",
    "zlim = ax.get_zlim()\n",
    "ax.set_zlim(0, 200)\n",
    "plt.show()"
   ]
  },
  {
   "cell_type": "markdown",
   "metadata": {},
   "source": [
    "Осталось понять, как сравнить с этим решающую поверхность, полученную нашей сетью. Нарисуем все начальные точки вида (угол, скорость, дальность мишени), которые классифицируются как \"будет попадание\". То есть покажем натренированной нейронной сети много-много разных точек и отметим на графике те, которые, на её взгляд, соответствуют ситуации попадания в мишень. \n",
    "\n",
    "Так как точек много, будем смотреть только широкое \"облако\" около правильной поверхности, но не все точки в кубе. Осторожно: график будет строиться долго (мы $100\\times 200\\times 40 = 800\\,000$ раз прогоняем данные через нейросеть)!"
   ]
  },
  {
   "cell_type": "code",
   "execution_count": 40,
   "metadata": {
    "collapsed": false
   },
   "outputs": [
    {
     "name": "stderr",
     "output_type": "stream",
     "text": [
      "/var/folders/xw/_xp45_dn0m116r476_pcfslc0000gn/T/ipykernel_3287/3396643919.py:8: RuntimeWarning: overflow encountered in exp\n",
      "  return 1.0/(1.0+np.exp(-z))\n"
     ]
    }
   ],
   "source": [
    "xx = np.linspace(0.5, 100, 100)\n",
    "yy = np.linspace(0, pi / 2, 180)\n",
    "dd = np.linspace( -10,  10, 40)  # только точки от -2.5 до 2.5 должны бы войти в график, но посмотрим\n",
    "def normalize(a):\n",
    "    \"\"\"нормализует очередной вход тестовых данных, подготавливая его к обработке нейросетью\"\"\"\n",
    "    return ((np.array(a) - means[:-1]) / stds[:-1])[:, np.newaxis]\n",
    "dots = np.array([(x, y, d + s([x, y])) for x in xx for y in yy for d in dd \n",
    "                 if np.argmax(nn.feedforward(normalize((x, y, d + s([x, y]))))) == 0])"
   ]
  },
  {
   "cell_type": "code",
   "execution_count": 41,
   "metadata": {
    "collapsed": false
   },
   "outputs": [
    {
     "data": {
      "image/png": "[encoded data removed]",
      "text/plain": [
       "<Figure size 432x288 with 1 Axes>"
      ]
     },
     "metadata": {
      "needs_background": "light"
     },
     "output_type": "display_data"
    }
   ],
   "source": [
    "fig = plt.figure()\n",
    "ax = fig.add_subplot(1, 1, 1, projection='3d')\n",
    "ax.scatter(dots[:, 0], dots[:, 1], dots[:, 2], alpha=0.5)\n",
    "plt.xlim(*xlim)\n",
    "plt.ylim(*ylim)\n",
    "ax.set_zlim(*zlim)\n",
    "plt.show()"
   ]
  },
  {
   "cell_type": "markdown",
   "metadata": {},
   "source": [
    "Итак, мы разобрались с тем, что предсказания наша сеть делает, и они примерно правильные. Но мы взяли просто сеть с потолка: почему именно 6 нейронов на внутреннем слое? Почему только один внутренний слой?\n",
    "Давайте поэкспериментируем с этим!"
   ]
  },
  {
   "cell_type": "code",
   "execution_count": 42,
   "metadata": {
    "collapsed": false
   },
   "outputs": [
    {
     "data": {
      "application/vnd.jupyter.widget-view+json": {
       "model_id": "8d823ce12cdc4bffba2802b2ea2bb144",
       "version_major": 2,
       "version_minor": 0
      },
      "text/plain": [
       "interactive(children=(IntSlider(value=6, continuous_update=False, description='1st inner layer: ', max=10), In…"
      ]
     },
     "metadata": {},
     "output_type": "display_data"
    }
   ],
   "source": [
    "from ipywidgets import *\n",
    "@interact(layer1=IntSlider(min=0, max=10, continuous_update=False, description=\"1st inner layer: \", value=6),\n",
    "          layer2=IntSlider(min=0, max=10, continuous_update=False, description=\"2nd inner layer:\"),\n",
    "          layer3=IntSlider(min=0, max=10, continuous_update=False, description=\"3rd inner layer: \"),\n",
    "          batch_size=BoundedIntText(min=1, max=len(data), value=10, description=\"Batch size: \"),\n",
    "          learning_rate=Dropdown(options=[\"0.01\", \"0.05\", \"0.1\", \"0.5\", \"1\", \"5\", \"10\"], \n",
    "                                 description=\"Learning rate: \")\n",
    "         )\n",
    "def learning_curve_by_network_structure(layer1, layer2, layer3, batch_size, learning_rate):\n",
    "    layers = [x for x in [input_count, layer1, layer2, layer3, output_count] if x > 0]\n",
    "    nn = Network(layers, output=False)\n",
    "    learning_rate=float(learning_rate)\n",
    "    \n",
    "    CER = []\n",
    "    cost_train = []\n",
    "    cost_test  = []\n",
    "    for _ in range(150):\n",
    "        nn.SGD(training_data=train, epochs=1, mini_batch_size=batch_size, eta=learning_rate)\n",
    "        CER.append(1 - nn.evaluate(test) / len(test))\n",
    "        cost_test.append(cost_function(nn, test, onehot=False))\n",
    "        cost_train.append(cost_function(nn, train, onehot=True))\n",
    "    \n",
    "    fig = plt.figure(figsize=(15,5))\n",
    "    fig.add_subplot(1,2,1)\n",
    "    plt.ylim(0, 1)\n",
    "    plt.plot(CER)\n",
    "    plt.title(\"Classification error rate\")\n",
    "    plt.ylabel(\"Percent of incorrectly identified observations\")\n",
    "    plt.xlabel(\"Epoch number\")\n",
    "    \n",
    "    fig.add_subplot(1,2,2)\n",
    "    plt.plot(cost_train, label=\"Training error\", color=\"orange\")\n",
    "    plt.plot(cost_test, label=\"Test error\", color=\"blue\")\n",
    "    plt.title(\"Learning curve\")\n",
    "    plt.ylabel(\"Cost function\")\n",
    "    plt.xlabel(\"Epoch number\")\n",
    "    plt.legend()\n",
    "    plt.show()"
   ]
  },
  {
   "cell_type": "markdown",
   "metadata": {},
   "source": [
    "Этот виджет и ваши взаимодействия с ним должны оставить у вас в голове один большой вопрос: \"А как вообще выбирать архитектуру сети, чтобы что-нибудь работало\"?"
   ]
  },
  {
   "cell_type": "markdown",
   "metadata": {},
   "source": [
    "## Регуляризация\n",
    "Отлично, мы достигаем примерно 90%-ной точности только за счёт конструкции самой сети. Можно ли лучше?\n",
    "Давайте разберёмся со стандартными приёмами (которые, кстати, будут гарантированно объявлять более проcтые модели более хорошими)."
   ]
  },
  {
   "cell_type": "markdown",
   "metadata": {},
   "source": [
    "Напоминание: целевая функция при применении $\\ell_1$-регуляризации выглядит так: \n",
    "$$J_1 = \\frac{1}{n}\\sum_{i=1}^n \\left\\vert\\hat y_i - y_i\\right\\vert^2 + \\lambda_1\\sum_{j}\\left\\vert w_j\\right\\vert,$$\n",
    "где $w_j$ - любой вес в том смысле, что это любое $w_{jk}^l$.\n",
    "\n",
    "Целевая функция для $\\ell_2$-регуляризации выглядит похожим образом:\n",
    "$$J_2 = \\frac{1}{n}\\sum_{i=1}^n \\left\\vert\\hat y_i - y_i\\right\\vert^2 + \\lambda_2\\frac{1}{2}\\sum_{j}\\left\\vert w_j\\right\\vert^2,$$\n",
    "поэтому обычно имеет смысл их объединить и задавать параметрами коэффициенты $\\lambda_1$ и $\\lambda_2$, чтобы не плодить сущности:\n",
    "$$J_r = \\frac{1}{n}\\sum_{i=1}^n \\left\\vert\\hat y_i - y_i\\right\\vert^2 + \\lambda_1\\sum_{j}\\left\\vert w_j\\right\\vert + \\lambda_2\\frac{1}{2}\\sum_{j}\\left\\vert w_j\\right\\vert^2.$$\n",
    "\n",
    "Упражнение: посчитайте производные целевой функции $J_r$ по весам и проверьте себя и нас в коде ниже: правильно ли мы считаем эти производные?"
   ]
  },
  {
   "cell_type": "code",
   "execution_count": 43,
   "metadata": {
    "collapsed": true
   },
   "outputs": [],
   "source": [
    "class RegularizedNetwork(Network):\n",
    "    def __init__(self, sizes, output=True, l1=0, l2=0):\n",
    "        super().__init__(sizes, output)\n",
    "        self.l1 = l1\n",
    "        self.l2 = l2\n",
    "        \n",
    "    def update_mini_batch(self, mini_batch, eta):\n",
    "        \"\"\"\n",
    "        Обновить веса и смещения нейронной сети, сделав шаг градиентного\n",
    "        спуска на основе алгоритма обратного распространения ошибки, примененного\n",
    "        к одному mini batch. Учесть штрафы за L1 и L2.\n",
    "        ``mini_batch`` - список кортежей вида ``(x, y)``,\n",
    "        ``eta`` - величина шага (learning rate).\n",
    "        \"\"\"\n",
    "        \n",
    "        nabla_b = [np.zeros(b.shape) for b in self.biases]\n",
    "        nabla_w = [np.zeros(w.shape) for w in self.weights]\n",
    "        for x, y in mini_batch:\n",
    "            delta_nabla_b, delta_nabla_w = self.backprop(x, y)\n",
    "            nabla_b = [nb+dnb for nb, dnb in zip(nabla_b, delta_nabla_b)]\n",
    "            nabla_w = [nw+dnw for nw, dnw in zip(nabla_w, delta_nabla_w)]\n",
    "            \n",
    "        eps = eta / len(mini_batch)\n",
    "        self.weights = [w - eps * nw - self.l1 * np.sign(w) - self.l2 * w for w, nw in zip(self.weights, nabla_w)]\n",
    "        self.biases  = [b - eps * nb for b, nb in zip(self.biases,  nabla_b)]"
   ]
  },
  {
   "cell_type": "code",
   "execution_count": 44,
   "metadata": {
    "collapsed": false
   },
   "outputs": [
    {
     "data": {
      "application/vnd.jupyter.widget-view+json": {
       "model_id": "c85e8ed25fb946db8cf7f7ef5d601f55",
       "version_major": 2,
       "version_minor": 0
      },
      "text/plain": [
       "interactive(children=(IntSlider(value=6, continuous_update=False, description='1st inner layer: ', max=10), In…"
      ]
     },
     "metadata": {},
     "output_type": "display_data"
    }
   ],
   "source": [
    "%matplotlib inline\n",
    "from ipywidgets import *\n",
    "@interact(layer1=IntSlider(min=0, max=10, continuous_update=False, description=\"1st inner layer: \", value=6),\n",
    "          layer2=IntSlider(min=0, max=10, continuous_update=False, description=\"2nd inner layer:\"),\n",
    "          layer3=IntSlider(min=0, max=10, continuous_update=False, description=\"3rd inner layer: \"),\n",
    "          batch_size=BoundedIntText(min=1, max=len(data), value=10, description=\"Batch size: \"),\n",
    "          learning_rate=Dropdown(options=[\"0.01\", \"0.05\", \"0.1\", \"0.5\", \"1\", \"5\", \"10\"], \n",
    "                                 value=\"0.01\", description=\"Learning rate: \"),\n",
    "          l1=Dropdown(options=[\"0\", \"0.0001\", \"0.0005\", \"0.001\", \"0.005\", \"0.01\", \"0.05\", \"0.1\"], value=\"0.0001\", \n",
    "                      description=\"$\\ell_1:$\"),\n",
    "          l2=Dropdown(options=[\"0\", \"0.0001\", \"0.0005\", \"0.001\", \"0.005\", \"0.01\", \"0.05\", \"0.1\"], value=\"0.0001\", \n",
    "                      description=\"$\\ell_2:$\")\n",
    "         )\n",
    "def learning_curve_by_network_structure_and_regularization(layer1, layer2, layer3, batch_size, learning_rate, l1, l2):\n",
    "    layers = [x for x in [input_count, layer1, layer2, layer3, output_count] if x > 0]\n",
    "    nn = RegularizedNetwork(layers, output=False, l1=float(l1), l2=float(l2))\n",
    "    learning_rate=float(learning_rate)\n",
    "    \n",
    "    CER = []\n",
    "    cost_train = []\n",
    "    cost_test  = []\n",
    "    for _ in range(150):\n",
    "        nn.SGD(training_data=train, epochs=1, mini_batch_size=batch_size, eta=learning_rate)\n",
    "        CER.append(1 - nn.evaluate(test) / len(test))\n",
    "        cost_test.append(cost_function(nn, test, onehot=False))\n",
    "        cost_train.append(cost_function(nn, train, onehot=True))\n",
    "    \n",
    "    fig = plt.figure(figsize=(15,5))\n",
    "    fig.add_subplot(1,2,1)\n",
    "    plt.ylim(0, 1)\n",
    "    plt.plot(CER)\n",
    "    plt.title(\"Classification error rate\")\n",
    "    plt.ylabel(\"Percent of incorreclty identified observations\")\n",
    "    plt.xlabel(\"Epoch number\")\n",
    "    \n",
    "    fig.add_subplot(1,2,2)\n",
    "    plt.plot(cost_train, label=\"Training error\", color=\"orange\")\n",
    "    plt.plot(cost_test, label=\"Test error\", color=\"blue\")\n",
    "    plt.title(\"Learning curve\")\n",
    "    plt.ylabel(\"Cost function\")\n",
    "    plt.xlabel(\"Epoch number\")\n",
    "    plt.legend()\n",
    "    plt.show()"
   ]
  },
  {
   "cell_type": "markdown",
   "metadata": {},
   "source": [
    "Надеюсь, вы будете так же увлечённо рассматривать эти графики, как это делали мы (кое-кто час заворожённо двигал ползунки, всё больше и больше проникаясь пониманием!) Если у вас появились какие-то гениальные мысли (помимо двух заданий на интерпретацию графиков, которые ждут вас на Stepic.Org), не стесняйтесь писать их в комментариях к уроку!"
   ]
  }
 ],
 "metadata": {
  "kernelspec": {
   "display_name": "Python 3",
   "language": "python",
   "name": "python3"
  },
  "language_info": {
   "codemirror_mode": {
    "name": "ipython",
    "version": 3
   },
   "file_extension": ".py",
   "mimetype": "text/x-python",
   "name": "python",
   "nbconvert_exporter": "python",
   "pygments_lexer": "ipython3",
   "version": "3.9.12"
  }
 },
 "nbformat": 4,
 "nbformat_minor": 0
}
